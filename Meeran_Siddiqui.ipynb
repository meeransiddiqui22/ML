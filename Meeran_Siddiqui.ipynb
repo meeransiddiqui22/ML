{
  "cells": [
    {
      "cell_type": "markdown",
      "source": [
        "Name - Meeran Siddiqui\n",
        "\n",
        "net id - mxs220072"
      ],
      "metadata": {
        "id": "duNjRc4Zh1TD"
      }
    },
    {
      "cell_type": "markdown",
      "source": [
        "HW 4 – Multi-label Classification Using Trainer (10 Points)\n",
        "\n",
        "Required Submission files:\n",
        "\n",
        "Submit the following two files:\n",
        "1.\tFirstName_LastName_HW4.ipynb\n",
        "2.\tFirstName_LastName_HW4.pdf (pdf version of the above file)\n",
        "\n",
        "\n",
        "\n",
        "TASK: Multilabel Classification (10 Points)\n",
        "\n",
        "In this HW, you will identify tags for stack exchange Questions. This data is a subset of data available in Kaggle Competitions. The given dataset actually contains the different questions asked in the StackExchange website for various tech domains. We have fetched only those question that contains top 10 individual tags. Each question can have more than one tag. This means that this is a multi-label classification problem. These are the ten categories for tags in the data.\n",
        "\n",
        "0\tc#\n",
        "1\tjava\n",
        "2\tphp\n",
        "3\tjavascript\n",
        "4\tandroid\n",
        "5\tjquery\n",
        "6\tc++\n",
        "7\tpython\n",
        "8\tiphone\n",
        "9\tasp.net\n",
        "\n",
        "Data:\n",
        "•\tThe dataset is available from eLearning :0_Data folder from the file: df_multilabel_hw_cleaned.joblib.\n",
        "•\tThe dataset is a pandas dataframe. You can use joblib.load(file) to load the dataset.\n",
        "•\tNo preprocessing is required, you are provided with the cleaned dataset.\n",
        "•\tYou will use this data set to train your classification model.\n",
        "•\tHint1: The Tag_Number column is your labels. However, the data type of list elements is object. To convert it to integers;use  ast.literatl_eval() function from ast library. You will need to import this library first.\n",
        "•\tHint2: Since this is a multilabel dataset – you will need to do the one-hot encoding of your dependent variable. You can use MultiLabelBinarizer from sklearn.\n",
        "•\tYou will create train/valid/test splits from this data set. Use 60% for train, 20 % for the test, and the remaining 20% for the validation dataset.\n",
        "\n",
        "Model:\n",
        "●\tYour Network should have the following layers\n",
        "\n",
        "EmbeddingBag → Hidden_Layer1 →ReLU  → Dropout_Layer1 → BatchNorn_Layer1 → Hidden_Layer2 → ReLU  → DropoutLayer2 → BatchNorm_Layer2  → Output Layer\n",
        "•\tYou will use the following hyperparameters to train our model:\n",
        "    EMBED_DIM=300,\n",
        "    VOCAB_SIZE=len(your_vocab),\n",
        "    OUTPUT_DIM=10,\n",
        "    HIDDEN_DIM1=200,\n",
        "    HIDDEN_DIM2=100,\n",
        "        \n",
        "    # training\n",
        "    EPOCHS=5,\n",
        "    BATCH_SIZE=128,\n",
        "    LEARNING_RATE=0.001,\n",
        "    WEIGHT_DECAY=0.000,\n",
        "    CLIP_TYPE = 'value',\n",
        "    CLIP_VALUE = 10,\n",
        "    PATIENCE=5,\n",
        "\n",
        "Note:  For Gradient Clipping. you will need to add the following line in the step function we discussed in class.\n",
        "loss.backward()\n",
        "\n",
        "# Clip gradients before the optimizer step\n",
        "clip_grad_value_(model.parameters(), clip_value=10.0)\n",
        "\n",
        "# Update parameters\n",
        "optimizer.step()\n",
        "\n",
        "Instead of accuracy use Hamming Loss as a metric, since this is a multilabel classification problem. Hint (see Task 4 of HW3 for reference).\n",
        "\n",
        "You can use 3_imdb_complete_example.ipynb from Lecture 3 as a starting point. You will need to make changes to the Training Function to adapt it to the multilabel Classification problem.\n"
      ],
      "metadata": {
        "id": "mOc1IpE8j6Ky"
      }
    },
    {
      "cell_type": "markdown",
      "metadata": {
        "id": "FIxAU6f3S-MI"
      },
      "source": [
        "# <Font color = 'indianred'>**Load Libraries/Install Software**"
      ]
    },
    {
      "cell_type": "code",
      "execution_count": 1,
      "metadata": {
        "execution": {
          "iopub.execute_input": "2022-11-27T00:23:29.192565Z",
          "iopub.status.busy": "2022-11-27T00:23:29.192271Z",
          "iopub.status.idle": "2022-11-27T00:23:29.201977Z",
          "shell.execute_reply": "2022-11-27T00:23:29.201283Z",
          "shell.execute_reply.started": "2022-11-27T00:23:29.192478Z"
        },
        "id": "-h5a-vtFb738",
        "tags": [],
        "colab": {
          "base_uri": "https://localhost:8080/"
        },
        "outputId": "f15decd2-6764-4f07-8a8f-6c511bd64893"
      },
      "outputs": [
        {
          "output_type": "stream",
          "name": "stdout",
          "text": [
            "Mounted at /content/drive\n",
            "\u001b[2K     \u001b[90m━━━━━━━━━━━━━━━━━━━━━━━━━━━━━━━━━━━━━━━\u001b[0m \u001b[32m805.2/805.2 kB\u001b[0m \u001b[31m8.2 MB/s\u001b[0m eta \u001b[36m0:00:00\u001b[0m\n",
            "\u001b[?25h"
          ]
        }
      ],
      "source": [
        "if 'google.colab' in str(get_ipython()):\n",
        "    from google.colab import drive\n",
        "    drive.mount('/content/drive')\n",
        "\n",
        "    !pip install torchtext --upgrade -qq\n",
        "    !pip install torchmetrics -qq\n",
        "    !pip install torchinfo -qq\n",
        "\n",
        "    basepath = '/content/drive/MyDrive/NLP'"
      ]
    },
    {
      "cell_type": "code",
      "source": [],
      "metadata": {
        "id": "K9AsHvdwhzUw"
      },
      "execution_count": null,
      "outputs": []
    },
    {
      "cell_type": "code",
      "execution_count": 2,
      "metadata": {
        "execution": {
          "iopub.execute_input": "2022-10-24T09:22:06.058551Z",
          "iopub.status.busy": "2022-10-24T09:22:06.058401Z",
          "iopub.status.idle": "2022-10-24T09:22:06.083291Z",
          "shell.execute_reply": "2022-10-24T09:22:06.082816Z",
          "shell.execute_reply.started": "2022-10-24T09:22:06.058538Z"
        },
        "id": "TqYqOtp5yluv",
        "tags": []
      },
      "outputs": [],
      "source": [
        "# Importing PyTorch library for tensor computations and neural network modules\n",
        "import torch\n",
        "import torch.nn as nn\n",
        "import torch.nn.functional as F\n",
        "\n",
        "# For working with textual data vocabularies and for displaying model summaries\n",
        "from torchtext.vocab import vocab\n",
        "from torchinfo import summary\n",
        "\n",
        "# General-purpose Python libraries for random number generation and numerical operations\n",
        "import random\n",
        "import numpy as np\n",
        "import pandas as pd\n",
        "\n",
        "# Utilities for efficient serialization/deserialization of Python objects and for element tallying\n",
        "import joblib\n",
        "from collections import Counter\n",
        "\n",
        "# For creating lightweight attribute classes and for partial function application\n",
        "from types import SimpleNamespace\n",
        "from functools import partial\n",
        "\n",
        "# For filesystem path handling, generating and displaying confusion matrices, and date-time manipulations\n",
        "from pathlib import Path\n",
        "from sklearn.metrics import confusion_matrix, ConfusionMatrixDisplay\n",
        "from datetime import datetime\n",
        "\n",
        "# For plotting and visualization\n",
        "import matplotlib.pyplot as plt\n",
        "\n",
        "device = torch.device('cuda:0' if torch.cuda.is_available() else 'cpu')\n"
      ]
    },
    {
      "cell_type": "markdown",
      "metadata": {
        "id": "J2nAIo5uNxEr"
      },
      "source": [
        "# <Font color = 'indianred'>**Specify Project Folders**"
      ]
    },
    {
      "cell_type": "code",
      "execution_count": 3,
      "metadata": {
        "execution": {
          "iopub.execute_input": "2022-10-24T09:22:06.160646Z",
          "iopub.status.busy": "2022-10-24T09:22:06.160510Z",
          "iopub.status.idle": "2022-10-24T09:22:06.184362Z",
          "shell.execute_reply": "2022-10-24T09:22:06.184015Z",
          "shell.execute_reply.started": "2022-10-24T09:22:06.160633Z"
        },
        "id": "Z0yKILuteTDE",
        "colab": {
          "base_uri": "https://localhost:8080/",
          "height": 363
        },
        "outputId": "9f3e10d4-7878-4e78-bf00-84245809cdf6"
      },
      "outputs": [
        {
          "output_type": "execute_result",
          "data": {
            "text/plain": [
              "                                        cleaned_text               Tags  \\\n",
              "0  asp query stre dropdown webpage follow control...         c# asp.net   \n",
              "1  run javascript code server java code want run ...    java javascript   \n",
              "2  linq sql throw exception row find change hi li...         c# asp.net   \n",
              "3  run python script php server run nginx web ser...         php python   \n",
              "4  advice write function m try write function res...  javascript jquery   \n",
              "5  jquery auto resize function cause jump browser...  javascript jquery   \n",
              "6  php page redirect operation page php grid subp...     php javascript   \n",
              "7  advice need expert asp.net usercontrol usage n...         c# asp.net   \n",
              "8  revert style apply focus blur user focus text ...  javascript jquery   \n",
              "9  hack work look android source develop app app ...       java android   \n",
              "\n",
              "  Tag_Number  \n",
              "0     [0, 9]  \n",
              "1     [1, 3]  \n",
              "2     [0, 9]  \n",
              "3     [2, 7]  \n",
              "4     [3, 5]  \n",
              "5     [3, 5]  \n",
              "6     [2, 3]  \n",
              "7     [0, 9]  \n",
              "8     [3, 5]  \n",
              "9     [1, 4]  "
            ],
            "text/html": [
              "\n",
              "  <div id=\"df-4753af93-f15a-42d1-b863-dcb1abde1f0f\" class=\"colab-df-container\">\n",
              "    <div>\n",
              "<style scoped>\n",
              "    .dataframe tbody tr th:only-of-type {\n",
              "        vertical-align: middle;\n",
              "    }\n",
              "\n",
              "    .dataframe tbody tr th {\n",
              "        vertical-align: top;\n",
              "    }\n",
              "\n",
              "    .dataframe thead th {\n",
              "        text-align: right;\n",
              "    }\n",
              "</style>\n",
              "<table border=\"1\" class=\"dataframe\">\n",
              "  <thead>\n",
              "    <tr style=\"text-align: right;\">\n",
              "      <th></th>\n",
              "      <th>cleaned_text</th>\n",
              "      <th>Tags</th>\n",
              "      <th>Tag_Number</th>\n",
              "    </tr>\n",
              "  </thead>\n",
              "  <tbody>\n",
              "    <tr>\n",
              "      <th>0</th>\n",
              "      <td>asp query stre dropdown webpage follow control...</td>\n",
              "      <td>c# asp.net</td>\n",
              "      <td>[0, 9]</td>\n",
              "    </tr>\n",
              "    <tr>\n",
              "      <th>1</th>\n",
              "      <td>run javascript code server java code want run ...</td>\n",
              "      <td>java javascript</td>\n",
              "      <td>[1, 3]</td>\n",
              "    </tr>\n",
              "    <tr>\n",
              "      <th>2</th>\n",
              "      <td>linq sql throw exception row find change hi li...</td>\n",
              "      <td>c# asp.net</td>\n",
              "      <td>[0, 9]</td>\n",
              "    </tr>\n",
              "    <tr>\n",
              "      <th>3</th>\n",
              "      <td>run python script php server run nginx web ser...</td>\n",
              "      <td>php python</td>\n",
              "      <td>[2, 7]</td>\n",
              "    </tr>\n",
              "    <tr>\n",
              "      <th>4</th>\n",
              "      <td>advice write function m try write function res...</td>\n",
              "      <td>javascript jquery</td>\n",
              "      <td>[3, 5]</td>\n",
              "    </tr>\n",
              "    <tr>\n",
              "      <th>5</th>\n",
              "      <td>jquery auto resize function cause jump browser...</td>\n",
              "      <td>javascript jquery</td>\n",
              "      <td>[3, 5]</td>\n",
              "    </tr>\n",
              "    <tr>\n",
              "      <th>6</th>\n",
              "      <td>php page redirect operation page php grid subp...</td>\n",
              "      <td>php javascript</td>\n",
              "      <td>[2, 3]</td>\n",
              "    </tr>\n",
              "    <tr>\n",
              "      <th>7</th>\n",
              "      <td>advice need expert asp.net usercontrol usage n...</td>\n",
              "      <td>c# asp.net</td>\n",
              "      <td>[0, 9]</td>\n",
              "    </tr>\n",
              "    <tr>\n",
              "      <th>8</th>\n",
              "      <td>revert style apply focus blur user focus text ...</td>\n",
              "      <td>javascript jquery</td>\n",
              "      <td>[3, 5]</td>\n",
              "    </tr>\n",
              "    <tr>\n",
              "      <th>9</th>\n",
              "      <td>hack work look android source develop app app ...</td>\n",
              "      <td>java android</td>\n",
              "      <td>[1, 4]</td>\n",
              "    </tr>\n",
              "  </tbody>\n",
              "</table>\n",
              "</div>\n",
              "    <div class=\"colab-df-buttons\">\n",
              "\n",
              "  <div class=\"colab-df-container\">\n",
              "    <button class=\"colab-df-convert\" onclick=\"convertToInteractive('df-4753af93-f15a-42d1-b863-dcb1abde1f0f')\"\n",
              "            title=\"Convert this dataframe to an interactive table.\"\n",
              "            style=\"display:none;\">\n",
              "\n",
              "  <svg xmlns=\"http://www.w3.org/2000/svg\" height=\"24px\" viewBox=\"0 -960 960 960\">\n",
              "    <path d=\"M120-120v-720h720v720H120Zm60-500h600v-160H180v160Zm220 220h160v-160H400v160Zm0 220h160v-160H400v160ZM180-400h160v-160H180v160Zm440 0h160v-160H620v160ZM180-180h160v-160H180v160Zm440 0h160v-160H620v160Z\"/>\n",
              "  </svg>\n",
              "    </button>\n",
              "\n",
              "  <style>\n",
              "    .colab-df-container {\n",
              "      display:flex;\n",
              "      gap: 12px;\n",
              "    }\n",
              "\n",
              "    .colab-df-convert {\n",
              "      background-color: #E8F0FE;\n",
              "      border: none;\n",
              "      border-radius: 50%;\n",
              "      cursor: pointer;\n",
              "      display: none;\n",
              "      fill: #1967D2;\n",
              "      height: 32px;\n",
              "      padding: 0 0 0 0;\n",
              "      width: 32px;\n",
              "    }\n",
              "\n",
              "    .colab-df-convert:hover {\n",
              "      background-color: #E2EBFA;\n",
              "      box-shadow: 0px 1px 2px rgba(60, 64, 67, 0.3), 0px 1px 3px 1px rgba(60, 64, 67, 0.15);\n",
              "      fill: #174EA6;\n",
              "    }\n",
              "\n",
              "    .colab-df-buttons div {\n",
              "      margin-bottom: 4px;\n",
              "    }\n",
              "\n",
              "    [theme=dark] .colab-df-convert {\n",
              "      background-color: #3B4455;\n",
              "      fill: #D2E3FC;\n",
              "    }\n",
              "\n",
              "    [theme=dark] .colab-df-convert:hover {\n",
              "      background-color: #434B5C;\n",
              "      box-shadow: 0px 1px 3px 1px rgba(0, 0, 0, 0.15);\n",
              "      filter: drop-shadow(0px 1px 2px rgba(0, 0, 0, 0.3));\n",
              "      fill: #FFFFFF;\n",
              "    }\n",
              "  </style>\n",
              "\n",
              "    <script>\n",
              "      const buttonEl =\n",
              "        document.querySelector('#df-4753af93-f15a-42d1-b863-dcb1abde1f0f button.colab-df-convert');\n",
              "      buttonEl.style.display =\n",
              "        google.colab.kernel.accessAllowed ? 'block' : 'none';\n",
              "\n",
              "      async function convertToInteractive(key) {\n",
              "        const element = document.querySelector('#df-4753af93-f15a-42d1-b863-dcb1abde1f0f');\n",
              "        const dataTable =\n",
              "          await google.colab.kernel.invokeFunction('convertToInteractive',\n",
              "                                                    [key], {});\n",
              "        if (!dataTable) return;\n",
              "\n",
              "        const docLinkHtml = 'Like what you see? Visit the ' +\n",
              "          '<a target=\"_blank\" href=https://colab.research.google.com/notebooks/data_table.ipynb>data table notebook</a>'\n",
              "          + ' to learn more about interactive tables.';\n",
              "        element.innerHTML = '';\n",
              "        dataTable['output_type'] = 'display_data';\n",
              "        await google.colab.output.renderOutput(dataTable, element);\n",
              "        const docLink = document.createElement('div');\n",
              "        docLink.innerHTML = docLinkHtml;\n",
              "        element.appendChild(docLink);\n",
              "      }\n",
              "    </script>\n",
              "  </div>\n",
              "\n",
              "\n",
              "<div id=\"df-3db1e8fb-06d6-492a-8d6e-3e4658a91e6a\">\n",
              "  <button class=\"colab-df-quickchart\" onclick=\"quickchart('df-3db1e8fb-06d6-492a-8d6e-3e4658a91e6a')\"\n",
              "            title=\"Suggest charts.\"\n",
              "            style=\"display:none;\">\n",
              "\n",
              "<svg xmlns=\"http://www.w3.org/2000/svg\" height=\"24px\"viewBox=\"0 0 24 24\"\n",
              "     width=\"24px\">\n",
              "    <g>\n",
              "        <path d=\"M19 3H5c-1.1 0-2 .9-2 2v14c0 1.1.9 2 2 2h14c1.1 0 2-.9 2-2V5c0-1.1-.9-2-2-2zM9 17H7v-7h2v7zm4 0h-2V7h2v10zm4 0h-2v-4h2v4z\"/>\n",
              "    </g>\n",
              "</svg>\n",
              "  </button>\n",
              "\n",
              "<style>\n",
              "  .colab-df-quickchart {\n",
              "      --bg-color: #E8F0FE;\n",
              "      --fill-color: #1967D2;\n",
              "      --hover-bg-color: #E2EBFA;\n",
              "      --hover-fill-color: #174EA6;\n",
              "      --disabled-fill-color: #AAA;\n",
              "      --disabled-bg-color: #DDD;\n",
              "  }\n",
              "\n",
              "  [theme=dark] .colab-df-quickchart {\n",
              "      --bg-color: #3B4455;\n",
              "      --fill-color: #D2E3FC;\n",
              "      --hover-bg-color: #434B5C;\n",
              "      --hover-fill-color: #FFFFFF;\n",
              "      --disabled-bg-color: #3B4455;\n",
              "      --disabled-fill-color: #666;\n",
              "  }\n",
              "\n",
              "  .colab-df-quickchart {\n",
              "    background-color: var(--bg-color);\n",
              "    border: none;\n",
              "    border-radius: 50%;\n",
              "    cursor: pointer;\n",
              "    display: none;\n",
              "    fill: var(--fill-color);\n",
              "    height: 32px;\n",
              "    padding: 0;\n",
              "    width: 32px;\n",
              "  }\n",
              "\n",
              "  .colab-df-quickchart:hover {\n",
              "    background-color: var(--hover-bg-color);\n",
              "    box-shadow: 0 1px 2px rgba(60, 64, 67, 0.3), 0 1px 3px 1px rgba(60, 64, 67, 0.15);\n",
              "    fill: var(--button-hover-fill-color);\n",
              "  }\n",
              "\n",
              "  .colab-df-quickchart-complete:disabled,\n",
              "  .colab-df-quickchart-complete:disabled:hover {\n",
              "    background-color: var(--disabled-bg-color);\n",
              "    fill: var(--disabled-fill-color);\n",
              "    box-shadow: none;\n",
              "  }\n",
              "\n",
              "  .colab-df-spinner {\n",
              "    border: 2px solid var(--fill-color);\n",
              "    border-color: transparent;\n",
              "    border-bottom-color: var(--fill-color);\n",
              "    animation:\n",
              "      spin 1s steps(1) infinite;\n",
              "  }\n",
              "\n",
              "  @keyframes spin {\n",
              "    0% {\n",
              "      border-color: transparent;\n",
              "      border-bottom-color: var(--fill-color);\n",
              "      border-left-color: var(--fill-color);\n",
              "    }\n",
              "    20% {\n",
              "      border-color: transparent;\n",
              "      border-left-color: var(--fill-color);\n",
              "      border-top-color: var(--fill-color);\n",
              "    }\n",
              "    30% {\n",
              "      border-color: transparent;\n",
              "      border-left-color: var(--fill-color);\n",
              "      border-top-color: var(--fill-color);\n",
              "      border-right-color: var(--fill-color);\n",
              "    }\n",
              "    40% {\n",
              "      border-color: transparent;\n",
              "      border-right-color: var(--fill-color);\n",
              "      border-top-color: var(--fill-color);\n",
              "    }\n",
              "    60% {\n",
              "      border-color: transparent;\n",
              "      border-right-color: var(--fill-color);\n",
              "    }\n",
              "    80% {\n",
              "      border-color: transparent;\n",
              "      border-right-color: var(--fill-color);\n",
              "      border-bottom-color: var(--fill-color);\n",
              "    }\n",
              "    90% {\n",
              "      border-color: transparent;\n",
              "      border-bottom-color: var(--fill-color);\n",
              "    }\n",
              "  }\n",
              "</style>\n",
              "\n",
              "  <script>\n",
              "    async function quickchart(key) {\n",
              "      const quickchartButtonEl =\n",
              "        document.querySelector('#' + key + ' button');\n",
              "      quickchartButtonEl.disabled = true;  // To prevent multiple clicks.\n",
              "      quickchartButtonEl.classList.add('colab-df-spinner');\n",
              "      try {\n",
              "        const charts = await google.colab.kernel.invokeFunction(\n",
              "            'suggestCharts', [key], {});\n",
              "      } catch (error) {\n",
              "        console.error('Error during call to suggestCharts:', error);\n",
              "      }\n",
              "      quickchartButtonEl.classList.remove('colab-df-spinner');\n",
              "      quickchartButtonEl.classList.add('colab-df-quickchart-complete');\n",
              "    }\n",
              "    (() => {\n",
              "      let quickchartButtonEl =\n",
              "        document.querySelector('#df-3db1e8fb-06d6-492a-8d6e-3e4658a91e6a button');\n",
              "      quickchartButtonEl.style.display =\n",
              "        google.colab.kernel.accessAllowed ? 'block' : 'none';\n",
              "    })();\n",
              "  </script>\n",
              "</div>\n",
              "    </div>\n",
              "  </div>\n"
            ]
          },
          "metadata": {},
          "execution_count": 3
        }
      ],
      "source": [
        "data = joblib.load('/content/drive/MyDrive/NLP/df_multilabel_hw_cleaned.joblib')\n",
        "data.head(10)"
      ]
    },
    {
      "cell_type": "code",
      "execution_count": 4,
      "metadata": {
        "id": "IC90yjKdZCcB"
      },
      "outputs": [],
      "source": [
        "import ast\n",
        "for i in range (len(data['Tag_Number'])):\n",
        "  data['Tag_Number'][i] = ast.literal_eval(data['Tag_Number'][i])"
      ]
    },
    {
      "cell_type": "markdown",
      "source": [
        "## Multi label one hot encoding"
      ],
      "metadata": {
        "id": "gdVMjfe_N7DB"
      }
    },
    {
      "cell_type": "code",
      "source": [
        "from sklearn.preprocessing import MultiLabelBinarizer\n",
        "mlb = MultiLabelBinarizer()\n",
        "x=mlb.fit_transform(data['Tag_Number'])\n",
        "\n",
        "for i in range (len(data['Tag_Number'])):\n",
        "  data['Tag_Number'][i] = x[i]"
      ],
      "metadata": {
        "id": "Ns9sgYgUVxVK"
      },
      "execution_count": 5,
      "outputs": []
    },
    {
      "cell_type": "code",
      "source": [
        "data.head()"
      ],
      "metadata": {
        "colab": {
          "base_uri": "https://localhost:8080/",
          "height": 206
        },
        "id": "6GPTjauLV0_y",
        "outputId": "cfdb9238-cffa-404c-8bda-d22bf1fca2e2"
      },
      "execution_count": 6,
      "outputs": [
        {
          "output_type": "execute_result",
          "data": {
            "text/plain": [
              "                                        cleaned_text               Tags  \\\n",
              "0  asp query stre dropdown webpage follow control...         c# asp.net   \n",
              "1  run javascript code server java code want run ...    java javascript   \n",
              "2  linq sql throw exception row find change hi li...         c# asp.net   \n",
              "3  run python script php server run nginx web ser...         php python   \n",
              "4  advice write function m try write function res...  javascript jquery   \n",
              "\n",
              "                       Tag_Number  \n",
              "0  [1, 0, 0, 0, 0, 0, 0, 0, 0, 1]  \n",
              "1  [0, 1, 0, 1, 0, 0, 0, 0, 0, 0]  \n",
              "2  [1, 0, 0, 0, 0, 0, 0, 0, 0, 1]  \n",
              "3  [0, 0, 1, 0, 0, 0, 0, 1, 0, 0]  \n",
              "4  [0, 0, 0, 1, 0, 1, 0, 0, 0, 0]  "
            ],
            "text/html": [
              "\n",
              "  <div id=\"df-07a9517b-e1f7-4657-9f0a-5c0027361a0f\" class=\"colab-df-container\">\n",
              "    <div>\n",
              "<style scoped>\n",
              "    .dataframe tbody tr th:only-of-type {\n",
              "        vertical-align: middle;\n",
              "    }\n",
              "\n",
              "    .dataframe tbody tr th {\n",
              "        vertical-align: top;\n",
              "    }\n",
              "\n",
              "    .dataframe thead th {\n",
              "        text-align: right;\n",
              "    }\n",
              "</style>\n",
              "<table border=\"1\" class=\"dataframe\">\n",
              "  <thead>\n",
              "    <tr style=\"text-align: right;\">\n",
              "      <th></th>\n",
              "      <th>cleaned_text</th>\n",
              "      <th>Tags</th>\n",
              "      <th>Tag_Number</th>\n",
              "    </tr>\n",
              "  </thead>\n",
              "  <tbody>\n",
              "    <tr>\n",
              "      <th>0</th>\n",
              "      <td>asp query stre dropdown webpage follow control...</td>\n",
              "      <td>c# asp.net</td>\n",
              "      <td>[1, 0, 0, 0, 0, 0, 0, 0, 0, 1]</td>\n",
              "    </tr>\n",
              "    <tr>\n",
              "      <th>1</th>\n",
              "      <td>run javascript code server java code want run ...</td>\n",
              "      <td>java javascript</td>\n",
              "      <td>[0, 1, 0, 1, 0, 0, 0, 0, 0, 0]</td>\n",
              "    </tr>\n",
              "    <tr>\n",
              "      <th>2</th>\n",
              "      <td>linq sql throw exception row find change hi li...</td>\n",
              "      <td>c# asp.net</td>\n",
              "      <td>[1, 0, 0, 0, 0, 0, 0, 0, 0, 1]</td>\n",
              "    </tr>\n",
              "    <tr>\n",
              "      <th>3</th>\n",
              "      <td>run python script php server run nginx web ser...</td>\n",
              "      <td>php python</td>\n",
              "      <td>[0, 0, 1, 0, 0, 0, 0, 1, 0, 0]</td>\n",
              "    </tr>\n",
              "    <tr>\n",
              "      <th>4</th>\n",
              "      <td>advice write function m try write function res...</td>\n",
              "      <td>javascript jquery</td>\n",
              "      <td>[0, 0, 0, 1, 0, 1, 0, 0, 0, 0]</td>\n",
              "    </tr>\n",
              "  </tbody>\n",
              "</table>\n",
              "</div>\n",
              "    <div class=\"colab-df-buttons\">\n",
              "\n",
              "  <div class=\"colab-df-container\">\n",
              "    <button class=\"colab-df-convert\" onclick=\"convertToInteractive('df-07a9517b-e1f7-4657-9f0a-5c0027361a0f')\"\n",
              "            title=\"Convert this dataframe to an interactive table.\"\n",
              "            style=\"display:none;\">\n",
              "\n",
              "  <svg xmlns=\"http://www.w3.org/2000/svg\" height=\"24px\" viewBox=\"0 -960 960 960\">\n",
              "    <path d=\"M120-120v-720h720v720H120Zm60-500h600v-160H180v160Zm220 220h160v-160H400v160Zm0 220h160v-160H400v160ZM180-400h160v-160H180v160Zm440 0h160v-160H620v160ZM180-180h160v-160H180v160Zm440 0h160v-160H620v160Z\"/>\n",
              "  </svg>\n",
              "    </button>\n",
              "\n",
              "  <style>\n",
              "    .colab-df-container {\n",
              "      display:flex;\n",
              "      gap: 12px;\n",
              "    }\n",
              "\n",
              "    .colab-df-convert {\n",
              "      background-color: #E8F0FE;\n",
              "      border: none;\n",
              "      border-radius: 50%;\n",
              "      cursor: pointer;\n",
              "      display: none;\n",
              "      fill: #1967D2;\n",
              "      height: 32px;\n",
              "      padding: 0 0 0 0;\n",
              "      width: 32px;\n",
              "    }\n",
              "\n",
              "    .colab-df-convert:hover {\n",
              "      background-color: #E2EBFA;\n",
              "      box-shadow: 0px 1px 2px rgba(60, 64, 67, 0.3), 0px 1px 3px 1px rgba(60, 64, 67, 0.15);\n",
              "      fill: #174EA6;\n",
              "    }\n",
              "\n",
              "    .colab-df-buttons div {\n",
              "      margin-bottom: 4px;\n",
              "    }\n",
              "\n",
              "    [theme=dark] .colab-df-convert {\n",
              "      background-color: #3B4455;\n",
              "      fill: #D2E3FC;\n",
              "    }\n",
              "\n",
              "    [theme=dark] .colab-df-convert:hover {\n",
              "      background-color: #434B5C;\n",
              "      box-shadow: 0px 1px 3px 1px rgba(0, 0, 0, 0.15);\n",
              "      filter: drop-shadow(0px 1px 2px rgba(0, 0, 0, 0.3));\n",
              "      fill: #FFFFFF;\n",
              "    }\n",
              "  </style>\n",
              "\n",
              "    <script>\n",
              "      const buttonEl =\n",
              "        document.querySelector('#df-07a9517b-e1f7-4657-9f0a-5c0027361a0f button.colab-df-convert');\n",
              "      buttonEl.style.display =\n",
              "        google.colab.kernel.accessAllowed ? 'block' : 'none';\n",
              "\n",
              "      async function convertToInteractive(key) {\n",
              "        const element = document.querySelector('#df-07a9517b-e1f7-4657-9f0a-5c0027361a0f');\n",
              "        const dataTable =\n",
              "          await google.colab.kernel.invokeFunction('convertToInteractive',\n",
              "                                                    [key], {});\n",
              "        if (!dataTable) return;\n",
              "\n",
              "        const docLinkHtml = 'Like what you see? Visit the ' +\n",
              "          '<a target=\"_blank\" href=https://colab.research.google.com/notebooks/data_table.ipynb>data table notebook</a>'\n",
              "          + ' to learn more about interactive tables.';\n",
              "        element.innerHTML = '';\n",
              "        dataTable['output_type'] = 'display_data';\n",
              "        await google.colab.output.renderOutput(dataTable, element);\n",
              "        const docLink = document.createElement('div');\n",
              "        docLink.innerHTML = docLinkHtml;\n",
              "        element.appendChild(docLink);\n",
              "      }\n",
              "    </script>\n",
              "  </div>\n",
              "\n",
              "\n",
              "<div id=\"df-abee0be6-cdfb-449e-87f0-c966012c1ea5\">\n",
              "  <button class=\"colab-df-quickchart\" onclick=\"quickchart('df-abee0be6-cdfb-449e-87f0-c966012c1ea5')\"\n",
              "            title=\"Suggest charts.\"\n",
              "            style=\"display:none;\">\n",
              "\n",
              "<svg xmlns=\"http://www.w3.org/2000/svg\" height=\"24px\"viewBox=\"0 0 24 24\"\n",
              "     width=\"24px\">\n",
              "    <g>\n",
              "        <path d=\"M19 3H5c-1.1 0-2 .9-2 2v14c0 1.1.9 2 2 2h14c1.1 0 2-.9 2-2V5c0-1.1-.9-2-2-2zM9 17H7v-7h2v7zm4 0h-2V7h2v10zm4 0h-2v-4h2v4z\"/>\n",
              "    </g>\n",
              "</svg>\n",
              "  </button>\n",
              "\n",
              "<style>\n",
              "  .colab-df-quickchart {\n",
              "      --bg-color: #E8F0FE;\n",
              "      --fill-color: #1967D2;\n",
              "      --hover-bg-color: #E2EBFA;\n",
              "      --hover-fill-color: #174EA6;\n",
              "      --disabled-fill-color: #AAA;\n",
              "      --disabled-bg-color: #DDD;\n",
              "  }\n",
              "\n",
              "  [theme=dark] .colab-df-quickchart {\n",
              "      --bg-color: #3B4455;\n",
              "      --fill-color: #D2E3FC;\n",
              "      --hover-bg-color: #434B5C;\n",
              "      --hover-fill-color: #FFFFFF;\n",
              "      --disabled-bg-color: #3B4455;\n",
              "      --disabled-fill-color: #666;\n",
              "  }\n",
              "\n",
              "  .colab-df-quickchart {\n",
              "    background-color: var(--bg-color);\n",
              "    border: none;\n",
              "    border-radius: 50%;\n",
              "    cursor: pointer;\n",
              "    display: none;\n",
              "    fill: var(--fill-color);\n",
              "    height: 32px;\n",
              "    padding: 0;\n",
              "    width: 32px;\n",
              "  }\n",
              "\n",
              "  .colab-df-quickchart:hover {\n",
              "    background-color: var(--hover-bg-color);\n",
              "    box-shadow: 0 1px 2px rgba(60, 64, 67, 0.3), 0 1px 3px 1px rgba(60, 64, 67, 0.15);\n",
              "    fill: var(--button-hover-fill-color);\n",
              "  }\n",
              "\n",
              "  .colab-df-quickchart-complete:disabled,\n",
              "  .colab-df-quickchart-complete:disabled:hover {\n",
              "    background-color: var(--disabled-bg-color);\n",
              "    fill: var(--disabled-fill-color);\n",
              "    box-shadow: none;\n",
              "  }\n",
              "\n",
              "  .colab-df-spinner {\n",
              "    border: 2px solid var(--fill-color);\n",
              "    border-color: transparent;\n",
              "    border-bottom-color: var(--fill-color);\n",
              "    animation:\n",
              "      spin 1s steps(1) infinite;\n",
              "  }\n",
              "\n",
              "  @keyframes spin {\n",
              "    0% {\n",
              "      border-color: transparent;\n",
              "      border-bottom-color: var(--fill-color);\n",
              "      border-left-color: var(--fill-color);\n",
              "    }\n",
              "    20% {\n",
              "      border-color: transparent;\n",
              "      border-left-color: var(--fill-color);\n",
              "      border-top-color: var(--fill-color);\n",
              "    }\n",
              "    30% {\n",
              "      border-color: transparent;\n",
              "      border-left-color: var(--fill-color);\n",
              "      border-top-color: var(--fill-color);\n",
              "      border-right-color: var(--fill-color);\n",
              "    }\n",
              "    40% {\n",
              "      border-color: transparent;\n",
              "      border-right-color: var(--fill-color);\n",
              "      border-top-color: var(--fill-color);\n",
              "    }\n",
              "    60% {\n",
              "      border-color: transparent;\n",
              "      border-right-color: var(--fill-color);\n",
              "    }\n",
              "    80% {\n",
              "      border-color: transparent;\n",
              "      border-right-color: var(--fill-color);\n",
              "      border-bottom-color: var(--fill-color);\n",
              "    }\n",
              "    90% {\n",
              "      border-color: transparent;\n",
              "      border-bottom-color: var(--fill-color);\n",
              "    }\n",
              "  }\n",
              "</style>\n",
              "\n",
              "  <script>\n",
              "    async function quickchart(key) {\n",
              "      const quickchartButtonEl =\n",
              "        document.querySelector('#' + key + ' button');\n",
              "      quickchartButtonEl.disabled = true;  // To prevent multiple clicks.\n",
              "      quickchartButtonEl.classList.add('colab-df-spinner');\n",
              "      try {\n",
              "        const charts = await google.colab.kernel.invokeFunction(\n",
              "            'suggestCharts', [key], {});\n",
              "      } catch (error) {\n",
              "        console.error('Error during call to suggestCharts:', error);\n",
              "      }\n",
              "      quickchartButtonEl.classList.remove('colab-df-spinner');\n",
              "      quickchartButtonEl.classList.add('colab-df-quickchart-complete');\n",
              "    }\n",
              "    (() => {\n",
              "      let quickchartButtonEl =\n",
              "        document.querySelector('#df-abee0be6-cdfb-449e-87f0-c966012c1ea5 button');\n",
              "      quickchartButtonEl.style.display =\n",
              "        google.colab.kernel.accessAllowed ? 'block' : 'none';\n",
              "    })();\n",
              "  </script>\n",
              "</div>\n",
              "    </div>\n",
              "  </div>\n"
            ]
          },
          "metadata": {},
          "execution_count": 6
        }
      ]
    },
    {
      "cell_type": "code",
      "source": [
        "data.drop(['Tags'],axis=1,inplace=True)"
      ],
      "metadata": {
        "id": "cTDwnyvRNJlY"
      },
      "execution_count": 7,
      "outputs": []
    },
    {
      "cell_type": "code",
      "source": [
        "import pandas as pd\n",
        "from sklearn.model_selection import train_test_split\n",
        "\n",
        "train_percentage = 0.6\n",
        "validation_percentage = 0.2\n",
        "test_percentage = 0.2\n",
        "\n",
        "df_train, df_temp = train_test_split(data, test_size=1 - train_percentage, random_state=42)\n",
        "\n",
        "\n",
        "relative_test_percentage = test_percentage / (validation_percentage + test_percentage)\n",
        "df_validation, df_test = train_test_split(df_temp, test_size=relative_test_percentage, random_state=42)\n"
      ],
      "metadata": {
        "id": "MXRpXno5bd27"
      },
      "execution_count": 8,
      "outputs": []
    },
    {
      "cell_type": "code",
      "source": [
        "print(df_train.shape)\n",
        "print(df_validation.shape)\n",
        "print(df_test.shape)"
      ],
      "metadata": {
        "colab": {
          "base_uri": "https://localhost:8080/"
        },
        "id": "s7LjwAzsc0r2",
        "outputId": "f50919a9-ed30-4731-c285-9d0c1bd32b39"
      },
      "execution_count": 9,
      "outputs": [
        {
          "output_type": "stream",
          "name": "stdout",
          "text": [
            "(28456, 2)\n",
            "(9485, 2)\n",
            "(9486, 2)\n"
          ]
        }
      ]
    },
    {
      "cell_type": "code",
      "source": [
        "df_train.head(10)"
      ],
      "metadata": {
        "colab": {
          "base_uri": "https://localhost:8080/",
          "height": 363
        },
        "id": "4KTJouYbdJpa",
        "outputId": "4e08f038-8e24-484c-bc44-0129be7633d5"
      },
      "execution_count": 10,
      "outputs": [
        {
          "output_type": "execute_result",
          "data": {
            "text/plain": [
              "                                            cleaned_text  \\\n",
              "21010  rearrange order list web page base current day...   \n",
              "14838  drop default selection cause search begin sear...   \n",
              "13376  send javascript variable php send value store ...   \n",
              "39416  check session expired ve specify session time ...   \n",
              "15883  pass value server control jquery update code c...   \n",
              "26175  pass dymanic tablelayout xml form linearlayout...   \n",
              "47235  datum addition updation sql table iam fairly n...   \n",
              "18819  iterate loop loop base array good way ignore d...   \n",
              "14841  android unregisterreceiver onpause like manife...   \n",
              "34798  get error exist write   follow code refer work...   \n",
              "\n",
              "                           Tag_Number  \n",
              "21010  [0, 0, 1, 1, 0, 1, 0, 0, 0, 0]  \n",
              "14838  [1, 0, 0, 0, 0, 0, 0, 0, 0, 1]  \n",
              "13376  [0, 0, 1, 1, 0, 0, 0, 0, 0, 0]  \n",
              "39416  [1, 0, 0, 0, 0, 0, 0, 0, 0, 1]  \n",
              "15883  [0, 0, 0, 0, 0, 1, 0, 0, 0, 1]  \n",
              "26175  [0, 1, 0, 0, 1, 0, 0, 0, 0, 0]  \n",
              "47235  [1, 0, 0, 0, 0, 0, 0, 0, 0, 1]  \n",
              "18819  [0, 0, 0, 1, 0, 1, 0, 0, 0, 0]  \n",
              "14841  [0, 1, 0, 0, 1, 0, 0, 0, 0, 0]  \n",
              "34798  [1, 0, 0, 0, 0, 0, 0, 0, 0, 1]  "
            ],
            "text/html": [
              "\n",
              "  <div id=\"df-90bafbfc-507b-4214-ac08-aa09390ff1cc\" class=\"colab-df-container\">\n",
              "    <div>\n",
              "<style scoped>\n",
              "    .dataframe tbody tr th:only-of-type {\n",
              "        vertical-align: middle;\n",
              "    }\n",
              "\n",
              "    .dataframe tbody tr th {\n",
              "        vertical-align: top;\n",
              "    }\n",
              "\n",
              "    .dataframe thead th {\n",
              "        text-align: right;\n",
              "    }\n",
              "</style>\n",
              "<table border=\"1\" class=\"dataframe\">\n",
              "  <thead>\n",
              "    <tr style=\"text-align: right;\">\n",
              "      <th></th>\n",
              "      <th>cleaned_text</th>\n",
              "      <th>Tag_Number</th>\n",
              "    </tr>\n",
              "  </thead>\n",
              "  <tbody>\n",
              "    <tr>\n",
              "      <th>21010</th>\n",
              "      <td>rearrange order list web page base current day...</td>\n",
              "      <td>[0, 0, 1, 1, 0, 1, 0, 0, 0, 0]</td>\n",
              "    </tr>\n",
              "    <tr>\n",
              "      <th>14838</th>\n",
              "      <td>drop default selection cause search begin sear...</td>\n",
              "      <td>[1, 0, 0, 0, 0, 0, 0, 0, 0, 1]</td>\n",
              "    </tr>\n",
              "    <tr>\n",
              "      <th>13376</th>\n",
              "      <td>send javascript variable php send value store ...</td>\n",
              "      <td>[0, 0, 1, 1, 0, 0, 0, 0, 0, 0]</td>\n",
              "    </tr>\n",
              "    <tr>\n",
              "      <th>39416</th>\n",
              "      <td>check session expired ve specify session time ...</td>\n",
              "      <td>[1, 0, 0, 0, 0, 0, 0, 0, 0, 1]</td>\n",
              "    </tr>\n",
              "    <tr>\n",
              "      <th>15883</th>\n",
              "      <td>pass value server control jquery update code c...</td>\n",
              "      <td>[0, 0, 0, 0, 0, 1, 0, 0, 0, 1]</td>\n",
              "    </tr>\n",
              "    <tr>\n",
              "      <th>26175</th>\n",
              "      <td>pass dymanic tablelayout xml form linearlayout...</td>\n",
              "      <td>[0, 1, 0, 0, 1, 0, 0, 0, 0, 0]</td>\n",
              "    </tr>\n",
              "    <tr>\n",
              "      <th>47235</th>\n",
              "      <td>datum addition updation sql table iam fairly n...</td>\n",
              "      <td>[1, 0, 0, 0, 0, 0, 0, 0, 0, 1]</td>\n",
              "    </tr>\n",
              "    <tr>\n",
              "      <th>18819</th>\n",
              "      <td>iterate loop loop base array good way ignore d...</td>\n",
              "      <td>[0, 0, 0, 1, 0, 1, 0, 0, 0, 0]</td>\n",
              "    </tr>\n",
              "    <tr>\n",
              "      <th>14841</th>\n",
              "      <td>android unregisterreceiver onpause like manife...</td>\n",
              "      <td>[0, 1, 0, 0, 1, 0, 0, 0, 0, 0]</td>\n",
              "    </tr>\n",
              "    <tr>\n",
              "      <th>34798</th>\n",
              "      <td>get error exist write   follow code refer work...</td>\n",
              "      <td>[1, 0, 0, 0, 0, 0, 0, 0, 0, 1]</td>\n",
              "    </tr>\n",
              "  </tbody>\n",
              "</table>\n",
              "</div>\n",
              "    <div class=\"colab-df-buttons\">\n",
              "\n",
              "  <div class=\"colab-df-container\">\n",
              "    <button class=\"colab-df-convert\" onclick=\"convertToInteractive('df-90bafbfc-507b-4214-ac08-aa09390ff1cc')\"\n",
              "            title=\"Convert this dataframe to an interactive table.\"\n",
              "            style=\"display:none;\">\n",
              "\n",
              "  <svg xmlns=\"http://www.w3.org/2000/svg\" height=\"24px\" viewBox=\"0 -960 960 960\">\n",
              "    <path d=\"M120-120v-720h720v720H120Zm60-500h600v-160H180v160Zm220 220h160v-160H400v160Zm0 220h160v-160H400v160ZM180-400h160v-160H180v160Zm440 0h160v-160H620v160ZM180-180h160v-160H180v160Zm440 0h160v-160H620v160Z\"/>\n",
              "  </svg>\n",
              "    </button>\n",
              "\n",
              "  <style>\n",
              "    .colab-df-container {\n",
              "      display:flex;\n",
              "      gap: 12px;\n",
              "    }\n",
              "\n",
              "    .colab-df-convert {\n",
              "      background-color: #E8F0FE;\n",
              "      border: none;\n",
              "      border-radius: 50%;\n",
              "      cursor: pointer;\n",
              "      display: none;\n",
              "      fill: #1967D2;\n",
              "      height: 32px;\n",
              "      padding: 0 0 0 0;\n",
              "      width: 32px;\n",
              "    }\n",
              "\n",
              "    .colab-df-convert:hover {\n",
              "      background-color: #E2EBFA;\n",
              "      box-shadow: 0px 1px 2px rgba(60, 64, 67, 0.3), 0px 1px 3px 1px rgba(60, 64, 67, 0.15);\n",
              "      fill: #174EA6;\n",
              "    }\n",
              "\n",
              "    .colab-df-buttons div {\n",
              "      margin-bottom: 4px;\n",
              "    }\n",
              "\n",
              "    [theme=dark] .colab-df-convert {\n",
              "      background-color: #3B4455;\n",
              "      fill: #D2E3FC;\n",
              "    }\n",
              "\n",
              "    [theme=dark] .colab-df-convert:hover {\n",
              "      background-color: #434B5C;\n",
              "      box-shadow: 0px 1px 3px 1px rgba(0, 0, 0, 0.15);\n",
              "      filter: drop-shadow(0px 1px 2px rgba(0, 0, 0, 0.3));\n",
              "      fill: #FFFFFF;\n",
              "    }\n",
              "  </style>\n",
              "\n",
              "    <script>\n",
              "      const buttonEl =\n",
              "        document.querySelector('#df-90bafbfc-507b-4214-ac08-aa09390ff1cc button.colab-df-convert');\n",
              "      buttonEl.style.display =\n",
              "        google.colab.kernel.accessAllowed ? 'block' : 'none';\n",
              "\n",
              "      async function convertToInteractive(key) {\n",
              "        const element = document.querySelector('#df-90bafbfc-507b-4214-ac08-aa09390ff1cc');\n",
              "        const dataTable =\n",
              "          await google.colab.kernel.invokeFunction('convertToInteractive',\n",
              "                                                    [key], {});\n",
              "        if (!dataTable) return;\n",
              "\n",
              "        const docLinkHtml = 'Like what you see? Visit the ' +\n",
              "          '<a target=\"_blank\" href=https://colab.research.google.com/notebooks/data_table.ipynb>data table notebook</a>'\n",
              "          + ' to learn more about interactive tables.';\n",
              "        element.innerHTML = '';\n",
              "        dataTable['output_type'] = 'display_data';\n",
              "        await google.colab.output.renderOutput(dataTable, element);\n",
              "        const docLink = document.createElement('div');\n",
              "        docLink.innerHTML = docLinkHtml;\n",
              "        element.appendChild(docLink);\n",
              "      }\n",
              "    </script>\n",
              "  </div>\n",
              "\n",
              "\n",
              "<div id=\"df-5a967a46-6d2b-4438-abd1-8a0dbca0c32f\">\n",
              "  <button class=\"colab-df-quickchart\" onclick=\"quickchart('df-5a967a46-6d2b-4438-abd1-8a0dbca0c32f')\"\n",
              "            title=\"Suggest charts.\"\n",
              "            style=\"display:none;\">\n",
              "\n",
              "<svg xmlns=\"http://www.w3.org/2000/svg\" height=\"24px\"viewBox=\"0 0 24 24\"\n",
              "     width=\"24px\">\n",
              "    <g>\n",
              "        <path d=\"M19 3H5c-1.1 0-2 .9-2 2v14c0 1.1.9 2 2 2h14c1.1 0 2-.9 2-2V5c0-1.1-.9-2-2-2zM9 17H7v-7h2v7zm4 0h-2V7h2v10zm4 0h-2v-4h2v4z\"/>\n",
              "    </g>\n",
              "</svg>\n",
              "  </button>\n",
              "\n",
              "<style>\n",
              "  .colab-df-quickchart {\n",
              "      --bg-color: #E8F0FE;\n",
              "      --fill-color: #1967D2;\n",
              "      --hover-bg-color: #E2EBFA;\n",
              "      --hover-fill-color: #174EA6;\n",
              "      --disabled-fill-color: #AAA;\n",
              "      --disabled-bg-color: #DDD;\n",
              "  }\n",
              "\n",
              "  [theme=dark] .colab-df-quickchart {\n",
              "      --bg-color: #3B4455;\n",
              "      --fill-color: #D2E3FC;\n",
              "      --hover-bg-color: #434B5C;\n",
              "      --hover-fill-color: #FFFFFF;\n",
              "      --disabled-bg-color: #3B4455;\n",
              "      --disabled-fill-color: #666;\n",
              "  }\n",
              "\n",
              "  .colab-df-quickchart {\n",
              "    background-color: var(--bg-color);\n",
              "    border: none;\n",
              "    border-radius: 50%;\n",
              "    cursor: pointer;\n",
              "    display: none;\n",
              "    fill: var(--fill-color);\n",
              "    height: 32px;\n",
              "    padding: 0;\n",
              "    width: 32px;\n",
              "  }\n",
              "\n",
              "  .colab-df-quickchart:hover {\n",
              "    background-color: var(--hover-bg-color);\n",
              "    box-shadow: 0 1px 2px rgba(60, 64, 67, 0.3), 0 1px 3px 1px rgba(60, 64, 67, 0.15);\n",
              "    fill: var(--button-hover-fill-color);\n",
              "  }\n",
              "\n",
              "  .colab-df-quickchart-complete:disabled,\n",
              "  .colab-df-quickchart-complete:disabled:hover {\n",
              "    background-color: var(--disabled-bg-color);\n",
              "    fill: var(--disabled-fill-color);\n",
              "    box-shadow: none;\n",
              "  }\n",
              "\n",
              "  .colab-df-spinner {\n",
              "    border: 2px solid var(--fill-color);\n",
              "    border-color: transparent;\n",
              "    border-bottom-color: var(--fill-color);\n",
              "    animation:\n",
              "      spin 1s steps(1) infinite;\n",
              "  }\n",
              "\n",
              "  @keyframes spin {\n",
              "    0% {\n",
              "      border-color: transparent;\n",
              "      border-bottom-color: var(--fill-color);\n",
              "      border-left-color: var(--fill-color);\n",
              "    }\n",
              "    20% {\n",
              "      border-color: transparent;\n",
              "      border-left-color: var(--fill-color);\n",
              "      border-top-color: var(--fill-color);\n",
              "    }\n",
              "    30% {\n",
              "      border-color: transparent;\n",
              "      border-left-color: var(--fill-color);\n",
              "      border-top-color: var(--fill-color);\n",
              "      border-right-color: var(--fill-color);\n",
              "    }\n",
              "    40% {\n",
              "      border-color: transparent;\n",
              "      border-right-color: var(--fill-color);\n",
              "      border-top-color: var(--fill-color);\n",
              "    }\n",
              "    60% {\n",
              "      border-color: transparent;\n",
              "      border-right-color: var(--fill-color);\n",
              "    }\n",
              "    80% {\n",
              "      border-color: transparent;\n",
              "      border-right-color: var(--fill-color);\n",
              "      border-bottom-color: var(--fill-color);\n",
              "    }\n",
              "    90% {\n",
              "      border-color: transparent;\n",
              "      border-bottom-color: var(--fill-color);\n",
              "    }\n",
              "  }\n",
              "</style>\n",
              "\n",
              "  <script>\n",
              "    async function quickchart(key) {\n",
              "      const quickchartButtonEl =\n",
              "        document.querySelector('#' + key + ' button');\n",
              "      quickchartButtonEl.disabled = true;  // To prevent multiple clicks.\n",
              "      quickchartButtonEl.classList.add('colab-df-spinner');\n",
              "      try {\n",
              "        const charts = await google.colab.kernel.invokeFunction(\n",
              "            'suggestCharts', [key], {});\n",
              "      } catch (error) {\n",
              "        console.error('Error during call to suggestCharts:', error);\n",
              "      }\n",
              "      quickchartButtonEl.classList.remove('colab-df-spinner');\n",
              "      quickchartButtonEl.classList.add('colab-df-quickchart-complete');\n",
              "    }\n",
              "    (() => {\n",
              "      let quickchartButtonEl =\n",
              "        document.querySelector('#df-5a967a46-6d2b-4438-abd1-8a0dbca0c32f button');\n",
              "      quickchartButtonEl.style.display =\n",
              "        google.colab.kernel.accessAllowed ? 'block' : 'none';\n",
              "    })();\n",
              "  </script>\n",
              "</div>\n",
              "    </div>\n",
              "  </div>\n"
            ]
          },
          "metadata": {},
          "execution_count": 10
        }
      ]
    },
    {
      "cell_type": "code",
      "source": [
        "X_train = df_train['cleaned_text']\n",
        "y_train = df_train['Tag_Number']\n",
        "\n",
        "X_val = df_validation['cleaned_text']\n",
        "y_val = df_validation['Tag_Number']\n",
        "\n",
        "X_test = df_test['cleaned_text']\n",
        "y_test = df_test['Tag_Number']"
      ],
      "metadata": {
        "id": "GM5rMGk5dXiC"
      },
      "execution_count": 11,
      "outputs": []
    },
    {
      "cell_type": "code",
      "source": [
        "X_train.info()"
      ],
      "metadata": {
        "colab": {
          "base_uri": "https://localhost:8080/"
        },
        "id": "N3U4kwp_fDFo",
        "outputId": "b8f3e74c-72df-4e08-a9a6-d9a73c21c47f"
      },
      "execution_count": 12,
      "outputs": [
        {
          "output_type": "stream",
          "name": "stdout",
          "text": [
            "<class 'pandas.core.series.Series'>\n",
            "Int64Index: 28456 entries, 21010 to 15795\n",
            "Series name: cleaned_text\n",
            "Non-Null Count  Dtype \n",
            "--------------  ----- \n",
            "28456 non-null  object\n",
            "dtypes: object(1)\n",
            "memory usage: 444.6+ KB\n"
          ]
        }
      ]
    },
    {
      "cell_type": "markdown",
      "metadata": {
        "id": "FTIKaTsTgvYu"
      },
      "source": [
        "## <Font color = 'indianred'>**Custom Dataset Class**"
      ]
    },
    {
      "cell_type": "code",
      "execution_count": 13,
      "metadata": {
        "execution": {
          "iopub.execute_input": "2022-10-24T09:22:07.037149Z",
          "iopub.status.busy": "2022-10-24T09:22:07.036975Z",
          "iopub.status.idle": "2022-10-24T09:22:07.063057Z",
          "shell.execute_reply": "2022-10-24T09:22:07.062578Z",
          "shell.execute_reply.started": "2022-10-24T09:22:07.037135Z"
        },
        "id": "kul5dyeM2d4k"
      },
      "outputs": [],
      "source": [
        "class CustomDataset(torch.utils.data.Dataset):\n",
        "    \"\"\"\n",
        "    Custom Dataset class for loading IMDB reviews and labels.\n",
        "\n",
        "    Attributes:\n",
        "        X (numpy.ndarray): Feature data, an array of texts.\n",
        "        y (list or array-like): Target labels.\n",
        "    \"\"\"\n",
        "\n",
        "    def __init__(self, X, y):\n",
        "        \"\"\"\n",
        "        Initialize the dataset with feature and target data.\n",
        "\n",
        "        Args:\n",
        "            X (list or array-like): The feature data (texts).\n",
        "            y (list or array-like): The target labels.\n",
        "        \"\"\"\n",
        "        # Converting the feature data to a NumPy array for consistency\n",
        "        self.X = np.array(X)\n",
        "\n",
        "        # Storing the target labels\n",
        "        self.y = y\n",
        "\n",
        "    def __len__(self):\n",
        "        \"\"\"\n",
        "        Return the number of samples in the dataset.\n",
        "\n",
        "        Returns:\n",
        "            int: The total number of samples.\n",
        "        \"\"\"\n",
        "        return len(self.X)\n",
        "\n",
        "    def __getitem__(self, idx):\n",
        "        \"\"\"\n",
        "        Fetch and return a single sample from the dataset at the given index.\n",
        "\n",
        "        Args:\n",
        "            idx (int): Index of the sample to fetch.\n",
        "\n",
        "        Returns:\n",
        "            tuple: A tuple containing the label and the text for the sample.\n",
        "        \"\"\"\n",
        "        # Retrieve the text and corresponding label from the dataset using the index\n",
        "        texts = self.X[idx]\n",
        "        labels = self.y[idx]\n",
        "\n",
        "        # Packing them into a tuple before returning\n",
        "        sample = (labels, texts)\n",
        "\n",
        "        return sample\n"
      ]
    },
    {
      "cell_type": "code",
      "execution_count": 14,
      "metadata": {
        "execution": {
          "iopub.execute_input": "2022-10-24T09:22:07.063940Z",
          "iopub.status.busy": "2022-10-24T09:22:07.063802Z",
          "iopub.status.idle": "2022-10-24T09:22:07.471457Z",
          "shell.execute_reply": "2022-10-24T09:22:07.470796Z",
          "shell.execute_reply.started": "2022-10-24T09:22:07.063927Z"
        },
        "id": "R1mKoKSlAxAq"
      },
      "outputs": [],
      "source": [
        "trainset = CustomDataset(X_train.values,y_train.values)\n",
        "validset = CustomDataset(X_val.values ,y_val.values )\n",
        "testset = CustomDataset(X_test.values,y_test.values )"
      ]
    },
    {
      "cell_type": "markdown",
      "metadata": {
        "id": "XoEVe7eGtY7U"
      },
      "source": [
        "## <Font color = 'indianred'>**Create Vocab**"
      ]
    },
    {
      "cell_type": "code",
      "execution_count": 15,
      "metadata": {
        "execution": {
          "iopub.execute_input": "2022-10-24T09:22:07.475835Z",
          "iopub.status.busy": "2022-10-24T09:22:07.475552Z",
          "iopub.status.idle": "2022-10-24T09:22:07.505585Z",
          "shell.execute_reply": "2022-10-24T09:22:07.505110Z",
          "shell.execute_reply.started": "2022-10-24T09:22:07.475808Z"
        },
        "id": "LRLHO-M1to6q"
      },
      "outputs": [],
      "source": [
        "def get_vocab(dataset, min_freq=1):\n",
        "    \"\"\"\n",
        "    Generate a vocabulary from a dataset.\n",
        "\n",
        "    Args:\n",
        "        dataset (list of tuple): List of tuples where each tuple contains a label and a text.\n",
        "        min_freq (int): The minimum frequency for a token to be included in the vocabulary.\n",
        "\n",
        "    Returns:\n",
        "        torchtext.vocab.Vocab: Vocabulary object.\n",
        "    \"\"\"\n",
        "    # Initialize a counter object to hold token frequencies\n",
        "    counter = Counter()\n",
        "\n",
        "    # Update the counter with tokens from each text in the dataset\n",
        "    for (l_, text) in dataset:\n",
        "        counter.update(str(text).split())\n",
        "\n",
        "    # Create a vocabulary using the counter object\n",
        "    # Tokens that appear fewer times than `min_freq` are excluded\n",
        "    my_vocab = vocab(counter, min_freq=min_freq)\n",
        "\n",
        "    # Insert a '<unk>' token at index 0 to represent unknown words\n",
        "    my_vocab.insert_token('<unk>', 0)\n",
        "\n",
        "    # Set the default index to 0\n",
        "    # This ensures that any unknown word will be mapped to '<unk>'\n",
        "    my_vocab.set_default_index(0)\n",
        "\n",
        "    return my_vocab\n"
      ]
    },
    {
      "cell_type": "markdown",
      "metadata": {
        "id": "TY5oKhQlJPQL"
      },
      "source": [
        "vocab should always be created based on trainset"
      ]
    },
    {
      "cell_type": "code",
      "execution_count": 16,
      "metadata": {
        "execution": {
          "iopub.execute_input": "2022-10-24T09:22:07.506294Z",
          "iopub.status.busy": "2022-10-24T09:22:07.506154Z",
          "iopub.status.idle": "2022-10-24T09:22:08.211189Z",
          "shell.execute_reply": "2022-10-24T09:22:08.210609Z",
          "shell.execute_reply.started": "2022-10-24T09:22:07.506280Z"
        },
        "id": "wNUi_aNctkAo"
      },
      "outputs": [],
      "source": [
        "vocab = get_vocab(trainset, min_freq=2)"
      ]
    },
    {
      "cell_type": "code",
      "execution_count": 17,
      "metadata": {
        "colab": {
          "base_uri": "https://localhost:8080/"
        },
        "execution": {
          "iopub.execute_input": "2022-10-24T09:22:08.211908Z",
          "iopub.status.busy": "2022-10-24T09:22:08.211772Z",
          "iopub.status.idle": "2022-10-24T09:22:08.239663Z",
          "shell.execute_reply": "2022-10-24T09:22:08.239191Z",
          "shell.execute_reply.started": "2022-10-24T09:22:08.211894Z"
        },
        "id": "ask8H1QJJMZK",
        "outputId": "cd7316b3-4100-4833-a05f-1b3faf49974d"
      },
      "outputs": [
        {
          "output_type": "execute_result",
          "data": {
            "text/plain": [
              "90287"
            ]
          },
          "metadata": {},
          "execution_count": 17
        }
      ],
      "source": [
        "len(vocab)"
      ]
    },
    {
      "cell_type": "code",
      "execution_count": 18,
      "metadata": {
        "colab": {
          "base_uri": "https://localhost:8080/"
        },
        "execution": {
          "iopub.execute_input": "2022-10-24T09:22:08.240488Z",
          "iopub.status.busy": "2022-10-24T09:22:08.240291Z",
          "iopub.status.idle": "2022-10-24T09:22:08.269589Z",
          "shell.execute_reply": "2022-10-24T09:22:08.268970Z",
          "shell.execute_reply.started": "2022-10-24T09:22:08.240474Z"
        },
        "id": "eyaeFqCsuRTQ",
        "outputId": "b460347c-ee4a-4857-d9fa-8e85bfae8769",
        "tags": []
      },
      "outputs": [
        {
          "output_type": "execute_result",
          "data": {
            "text/plain": [
              "['<unk>', 'rearrange', 'order', 'list', 'web']"
            ]
          },
          "metadata": {},
          "execution_count": 18
        }
      ],
      "source": [
        "vocab.get_itos()[0:5]"
      ]
    },
    {
      "cell_type": "markdown",
      "metadata": {
        "id": "ojvSMWR5u-LU"
      },
      "source": [
        "## <Font color = 'indianred'>**Collate_fn for Data Loaders**"
      ]
    },
    {
      "cell_type": "code",
      "execution_count": 20,
      "metadata": {
        "execution": {
          "iopub.execute_input": "2022-10-24T09:22:08.296819Z",
          "iopub.status.busy": "2022-10-24T09:22:08.296636Z",
          "iopub.status.idle": "2022-10-24T09:22:08.322287Z",
          "shell.execute_reply": "2022-10-24T09:22:08.321891Z",
          "shell.execute_reply.started": "2022-10-24T09:22:08.296805Z"
        },
        "id": "cdBKJlVmvB-9"
      },
      "outputs": [],
      "source": [
        "# Creating a function that will be used to get the indices of words from vocab\n",
        "def text_pipeline(x, vocab):\n",
        "    \"\"\"Converts text to a list of indices using a vocabulary dictionary\"\"\"\n",
        "    return [vocab[token] for token in str(x).split()]"
      ]
    },
    {
      "cell_type": "code",
      "execution_count": 21,
      "metadata": {
        "execution": {
          "iopub.execute_input": "2022-10-24T09:22:08.323133Z",
          "iopub.status.busy": "2022-10-24T09:22:08.322814Z",
          "iopub.status.idle": "2022-10-24T09:22:08.349717Z",
          "shell.execute_reply": "2022-10-24T09:22:08.349148Z",
          "shell.execute_reply.started": "2022-10-24T09:22:08.323120Z"
        },
        "id": "cL1TZVthvIT2"
      },
      "outputs": [],
      "source": [
        "def collate_batch(batch, my_vocab):\n",
        "    \"\"\"\n",
        "    Collates a batch of samples into tensors of labels, texts, and offsets.\n",
        "\n",
        "    Parameters:\n",
        "        batch (list): A list of tuples, each containing a label and a text.\n",
        "\n",
        "    Returns:\n",
        "        tuple: A tuple containing three tensors:\n",
        "               - Labels tensor\n",
        "               - Concatenated texts tensor\n",
        "               - Offsets tensor indicating the start positions of each text in the concatenated tensor\n",
        "    \"\"\"\n",
        "    # Unpack the batch into separate lists for labels and texts\n",
        "    labels, texts = zip(*batch)\n",
        "\n",
        "    # Convert the list of labels into a tensor of dtype int32\n",
        "    labels = torch.tensor(labels, dtype=torch.long)\n",
        "\n",
        "    # Convert the list of texts into a list of lists; each inner list contains the vocabulary indices for a text\n",
        "    list_of_list_of_indices = [text_pipeline(text, my_vocab) for text in texts]\n",
        "\n",
        "    # Compute the offsets for each text in the concatenated tensor\n",
        "    offsets = [0] + [len(i) for i in list_of_list_of_indices]\n",
        "    offsets = torch.tensor(offsets[:-1]).cumsum(dim=0)\n",
        "\n",
        "    # Concatenate all text indices into a single tensor\n",
        "    texts = torch.cat([torch.tensor(i, dtype=torch.int64) for i in list_of_list_of_indices])\n",
        "\n",
        "    return (texts, offsets), labels"
      ]
    },
    {
      "cell_type": "markdown",
      "metadata": {
        "id": "U5PslDp5R7Ff"
      },
      "source": [
        "## <Font color = 'indianred'>**Check Data Loaders**\n",
        "\n",
        "Let us check if our collate function is working by creating a dataloader"
      ]
    },
    {
      "cell_type": "code",
      "execution_count": 22,
      "metadata": {
        "execution": {
          "iopub.execute_input": "2022-10-24T09:22:08.350505Z",
          "iopub.status.busy": "2022-10-24T09:22:08.350358Z",
          "iopub.status.idle": "2022-10-24T09:22:08.376028Z",
          "shell.execute_reply": "2022-10-24T09:22:08.375584Z",
          "shell.execute_reply.started": "2022-10-24T09:22:08.350491Z"
        },
        "id": "4ltYqq5e4NLD"
      },
      "outputs": [],
      "source": [
        "batch_size = 2\n",
        "check_loader = torch.utils.data.DataLoader(dataset=trainset,\n",
        "                                           batch_size=batch_size,\n",
        "                                           shuffle=True,\n",
        "                                           collate_fn=partial(collate_batch, my_vocab = vocab),\n",
        "                                           )"
      ]
    },
    {
      "cell_type": "code",
      "execution_count": 23,
      "metadata": {
        "colab": {
          "base_uri": "https://localhost:8080/"
        },
        "execution": {
          "iopub.execute_input": "2022-10-24T09:22:08.376710Z",
          "iopub.status.busy": "2022-10-24T09:22:08.376572Z",
          "iopub.status.idle": "2022-10-24T09:22:08.611006Z",
          "shell.execute_reply": "2022-10-24T09:22:08.610435Z",
          "shell.execute_reply.started": "2022-10-24T09:22:08.376696Z"
        },
        "id": "logKAfqD4SXB",
        "outputId": "0743a4b8-c257-4e14-a8e7-9149305a1863"
      },
      "outputs": [
        {
          "output_type": "stream",
          "name": "stdout",
          "text": [
            "tensor([   96,   128,  3259,  1141,  1009,   597,   768,   200,   521,   563,\n",
            "           24,  1691,   563,     5,   439,  1755,   377,  3259,   563,   768,\n",
            "          522, 24247,    31,   687,   563,   464,  2527,   614,  1141,   190,\n",
            "         2287,   508,   492,   464,  2527,   563,  1275,   508,   101,   614,\n",
            "          506,     0,     0,     0,  1475,  1573,   563,   101,   614,   231,\n",
            "          546, 28690,   114,   333,   325,   847, 47780,    88,  3245,   173,\n",
            "        60429,    50,   205,   231,  1561,  3245,   173,    24,   461,  1561,\n",
            "          173, 41607,  1151,   204,   231,  1561,    81,   173,   805,   159,\n",
            "          427,    81,   427,   175,   427,   428,   427,   508,   427,   509,\n",
            "          427,   511,   204,    76,   452,   439,  5581,    81,    81,    87,\n",
            "         4607, 47756,   191,   546,   166,  7549,    81, 19582, 35273,  4606,\n",
            "          767, 32621, 35274,  1682,   767, 32617, 35275, 35277, 35278,  1682,\n",
            "          767, 32618, 35279, 35280, 35278,  1682,   767, 32619, 35281, 35282,\n",
            "        35278,  1682,   767, 32620, 35281, 35283, 35278,  1682,    53,  1682,\n",
            "        47755, 47761,  1245,   184,  1561,  1427,  1132,    88,   173, 35933,\n",
            "          173,  2574,   403, 35278,   192,   194,   193,   204,   231, 41607,\n",
            "          546, 61144,   420,   204,   205, 35265,   207,   208,   682,   439,\n",
            "          440,    74, 35266, 35267, 35268,   253, 35269,  2281,   805,   159,\n",
            "        47745,    81,   805,   231,  1026,    81,   173,   204,   941,  1561,\n",
            "           81,   173,   805,   857,  5581,    81,    84,  7819,  7549,   805,\n",
            "          159,   427,    81,   427,   175,   427,   428,   427,   508,   427,\n",
            "          509,   427,   511,   805,   159, 35270,    81,  1561,  1245,   175,\n",
            "         1561,  1245,   428,  1561,  1245,   508,  1561,  1245,   509,  1561,\n",
            "         1245,   511,   805,   159, 47754,    81,  5085,  1245,   175,   175,\n",
            "         5085,  1245,   175,   428,  5085,  1245,   175,   508,  5085,  1245,\n",
            "          428,   175,  5085,  1245,   428,   428,  5085,  1245,   428,   508,\n",
            "         5085,  1245,   508,   175,  5085,  1245,   508,   428,  5085,  1245,\n",
            "          508,   508,  5085,  1245,   509,   175,  5085,  1245,   509,   428,\n",
            "         5085,  1245,   509,   508,  5085,  1245,   511,   175,  5085,  1245,\n",
            "          511,   428,  5085,  1245,   511,   508,     3,    17,   159,    19,\n",
            "        35271,    81,   164,  2014,    17,   159,    19,     3,    17,   159,\n",
            "           19, 35272,    81,   164,  2014,    17,   159,    19,   209,   204,\n",
            "           76,   210,   211,   216,   319,  8467,   209,   204,    76,   452,\n",
            "          439,  5581,    81,    81,    87,  4607, 47756,   191,   546,   166,\n",
            "         7549,    81, 19582, 35273,  4606,   767, 32621, 35274,  1682,   767,\n",
            "        32617, 35275, 35277, 35278,  1682,   767, 32618, 35279, 35280, 35278,\n",
            "         1682,   767, 32619, 35281, 35282, 35278,  1682,   767, 32620, 35281,\n",
            "        35283, 35278,  1682,    53,  1682, 47755, 35278, 47761,  1245,   184,\n",
            "         1561,   192,   194,   193,   204,   941, 41607,   546, 61145,   805,\n",
            "          857, 35284,    74,   231,    81,   173,    17,   694,  6147,    81,\n",
            "           81,   175,  9542,    81,    81, 35286,  2043,    74,    81,    81,\n",
            "          428, 34647,    81,    81, 35286,  2043,    74,    81,    81,   508,\n",
            "        40629,    81,    81, 35286,  2043,    74,    81,    81,   509, 32641,\n",
            "           81,    81, 35286,   546,    84,   546,    87,   805,    76, 47764,\n",
            "         9924,   166, 35290,    19,    81, 15299,   427,  4607, 47756,   191,\n",
            "         5581,    81,    87,   546, 35291,   902, 35292,    81, 35293, 47767,\n",
            "        47768, 47769, 35293, 47767, 47768, 47769, 35293, 47767, 47768, 47769,\n",
            "        35293, 47767, 47768, 47769, 35293, 47767, 47768, 47769, 61146, 61147,\n",
            "        61148, 61149, 61150,  9542,    81, 61151, 34647,    81, 61152, 40629,\n",
            "           81, 61153, 32641,    81, 61154, 47779, 35294,    81, 35295, 35296,\n",
            "        35270,    81, 35297, 35298, 35299, 35300,  2529,    79, 11267, 35301,\n",
            "          805,    76,  8467, 35302,    60,   315,    81,    74, 35303, 35266,\n",
            "           81,    74,  7051, 35304,    81,    74, 35305, 35306,    81,    74,\n",
            "        35307, 35308,    81,    74, 35309, 35269,    81,   253, 35310,  2281,\n",
            "           81,   253, 35311, 35312, 35313, 35314, 35315, 35316,  9304,    86,\n",
            "        35317,  5400,   457, 35318, 35319, 35320, 35321, 35322, 35323, 47780,\n",
            "        29953,  1411,   427, 35324,  1412, 35270, 35325, 35326, 35327, 35328,\n",
            "          205,   204,   205,   191,   207,   208,   682,  4580, 21684, 35265,\n",
            "        37374,    81,   164, 35265,   253,  3049,   204,    76,   210,   211,\n",
            "          216, 61155,  3049,    81,   253, 57516,    93,   450,  4580, 61156,\n",
            "           81,  4580, 61157, 61158,  4580, 21684,   209,   204,    76, 21685,\n",
            "         4580,   941,   731,   857, 20440,   212,   213,   214,    50,   215,\n",
            "        61159, 61160, 61161, 61162,  2816,  2817, 61161,   114,   184, 61163,\n",
            "         2816,  2817, 61164,   209,   204,    76, 21685,  4580,   941,   731,\n",
            "          857, 20440,   212,   213,   214,    50,   215,   204,    76,    93,\n",
            "        61165,  3383,   184, 61163]) tensor([ 0, 49]) tensor([[0, 0, 0, 1, 0, 1, 0, 0, 0, 0],\n",
            "        [0, 1, 0, 0, 1, 0, 0, 0, 0, 0]])\n"
          ]
        },
        {
          "output_type": "stream",
          "name": "stderr",
          "text": [
            "<ipython-input-21-d54c96152e61>:18: UserWarning: Creating a tensor from a list of numpy.ndarrays is extremely slow. Please consider converting the list to a single numpy.ndarray with numpy.array() before converting to a tensor. (Triggered internally at ../torch/csrc/utils/tensor_new.cpp:245.)\n",
            "  labels = torch.tensor(labels, dtype=torch.long)\n"
          ]
        }
      ],
      "source": [
        "torch.manual_seed(22)\n",
        "for (text, offset), label in check_loader:\n",
        "    print(text, offset, label)\n",
        "    break\n"
      ]
    },
    {
      "cell_type": "markdown",
      "metadata": {
        "id": "GLIXu5RaylkZ"
      },
      "source": [
        "# <Font color = 'indianred'>**Model**\n",
        "embedding_layer-->linear--> ReLU -->dropout --> batch norm --> linear-->ReLu-->Dropout--> batchnorm ---> linear layer"
      ]
    },
    {
      "cell_type": "code",
      "execution_count": 24,
      "metadata": {
        "execution": {
          "iopub.execute_input": "2022-10-24T09:22:08.612148Z",
          "iopub.status.busy": "2022-10-24T09:22:08.611902Z",
          "iopub.status.idle": "2022-10-24T09:22:08.644739Z",
          "shell.execute_reply": "2022-10-24T09:22:08.644207Z",
          "shell.execute_reply.started": "2022-10-24T09:22:08.612127Z"
        },
        "id": "LNJY8GBipO2q",
        "tags": []
      },
      "outputs": [],
      "source": [
        "class CustomBlock(nn.Module):\n",
        "    def __init__(self, input_dim, output_dim):\n",
        "\n",
        "        super().__init__()\n",
        "\n",
        "        self.layers = nn.Sequential(\n",
        "            nn.Linear(input_dim, output_dim),\n",
        "            nn.ReLU(),\n",
        "            nn.Dropout(),\n",
        "            nn.BatchNorm1d(num_features=output_dim),\n",
        "\n",
        "\n",
        "        )\n",
        "    def forward(self, x):\n",
        "      return self.layers(x)\n",
        "\n"
      ]
    },
    {
      "cell_type": "markdown",
      "source": [
        "## <Font color = 'indianred'>**Model with EmbeddingBag layer**\n",
        "\n",
        "\n",
        "\n"
      ],
      "metadata": {
        "id": "hVz0z0_nwyG2"
      }
    },
    {
      "cell_type": "markdown",
      "source": [
        "## <Font color = 'indianred'>**Model with EmbeddingBag layer - Option1**"
      ],
      "metadata": {
        "id": "hQ1mpWNO1mFk"
      }
    },
    {
      "cell_type": "markdown",
      "source": [
        "## <Font color = 'indianred'>**Model with EmbeddingBag layer - Option2**"
      ],
      "metadata": {
        "id": "e4NrCS5Q-vp9"
      }
    },
    {
      "cell_type": "code",
      "source": [
        "class CustomMLP(nn.Module):\n",
        "    def __init__(self, vocab_size, embedding_dim, hidden_dim1, hidden_dim2, num_outputs):\n",
        "        super().__init__()\n",
        "\n",
        "        self.embedding_bag = nn.EmbeddingBag(vocab_size, embedding_dim)\n",
        "        self.layers = nn.Sequential(\n",
        "            CustomBlock(embedding_dim , hidden_dim1),\n",
        "            CustomBlock(hidden_dim1, hidden_dim2),\n",
        "            nn.Linear(hidden_dim2, num_outputs)\n",
        "        )\n",
        "\n",
        "    def forward(self, input_tuple):\n",
        "        data, offsets = input_tuple\n",
        "        embed_out = self.embedding_bag(data, offsets)\n",
        "        out = self.layers(embed_out)\n",
        "\n",
        "        return out"
      ],
      "metadata": {
        "id": "RfJzMWf7_Bm2"
      },
      "execution_count": 25,
      "outputs": []
    },
    {
      "cell_type": "markdown",
      "metadata": {
        "id": "aqI_o6qwy6lb"
      },
      "source": [
        "# <Font color = 'indianred'>**Model Training Functions**\n",
        "\n",
        "\n"
      ]
    },
    {
      "cell_type": "markdown",
      "source": [
        "To train a machine learning model effectively, we need a structured approach that combines training and evaluation while maintaining flexibility and readability. We break down the training loop into four distinct functions, each serving a specific role. This modular approach enhances code clarity, reusability, and allows for easy modifications. Let's outline our strategy for training and evaluation:\n",
        "\n",
        "1. **`step` Function**: This is our foundational building block. It handles a single forward and backward step for a batch of data. Whether during training or evaluation, we need to calculate model outputs, compute the loss, and potentially perform backpropagation to update model parameters. By encapsulating these fundamental operations in `step`, we ensure consistency and enable future adjustments with minimal disruption.\n",
        "\n",
        "  **Model Training** involves five steps:\n",
        "\n",
        "- Step 1: Compute model's predictions - forward pass (both train and eval)\n",
        "- Step 2: Compute loss (both train and eval)\n",
        "- Step 3: Compute the gradients (only train)\n",
        "- Step 4: Update the parameters (only train)\n",
        "- Step 5: Repeat steps 1 - 4\n",
        "\n",
        "\n",
        "2. **`train_epoch` Function**: This function orchestrates training for a single epoch. It iterates through the entire training dataset, invoking `step` for each batch. While doing so, it keeps track of the running training loss and the number of correct predictions. Its primary role is to aggregate statistics for the entire epoch. Additionally, it ensures that the model is in the training mode.\n",
        "\n",
        "3. **`val_epoch` Function**: Similar to `train_epoch`, this function handles validation. It iterates through the validation dataset, employing `step` for each batch, but crucially, it operates in a context where gradients aren't computed. This no-gradient mode conserves memory and computational resources. Like `train_epoch`, it is responsible for aggregating validation metrics and also ensures that the model is in evaluation mode.\n",
        "\n",
        "4. **`train` Function**: Our top-level function for training the model. It sets up the training environment for multiple epochs, invoking `train_epoch` for each training epoch and `val_epoch` for each validation epoch. It keeps track of metrics across epochs, making it easier to analyze model performance over time.\n",
        "\n",
        "By organizing our training and evaluation pipeline in this manner, we achieve code modularity and clarity. Furthermore, this structure allows us to easily swap out components like loss functions, optimizers, or metrics without overhauling the entire codebase. Now, let's dive into the details of each function."
      ],
      "metadata": {
        "id": "D8jAxlBKWafL"
      }
    },
    {
      "cell_type": "markdown",
      "source": [
        "## <Font color = 'indianred'>**Step Function**"
      ],
      "metadata": {
        "id": "ndebVBmw_GMp"
      }
    },
    {
      "cell_type": "code",
      "source": [
        "def step(inputs, targets, model, device, loss_function=None, optimizer=None):\n",
        "    \"\"\"\n",
        "    Performs a forward and backward pass for a given batch of inputs and targets.\n",
        "\n",
        "    Parameters:\n",
        "    - inputs (torch.Tensor): The input data for the model.\n",
        "    - targets (torch.Tensor): The true labels for the input data.\n",
        "    - model (torch.nn.Module): The neural network model.\n",
        "    - device (torch.device): The computing device (CPU or GPU).\n",
        "    - loss_function (torch.nn.Module, optional): The loss function to use.\n",
        "    - optimizer (torch.optim.Optimizer, optional): The optimizer to update model parameters.\n",
        "\n",
        "    Returns:\n",
        "    - loss (float): The computed loss value (only if loss_function is not None).\n",
        "    - outputs (torch.Tensor): The predictions from the model.\n",
        "    - correct (int): The number of correctly classified samples in the batch.\n",
        "    \"\"\"\n",
        "    # Move the model and data to the device\n",
        "    model = model.to(device)\n",
        "    inputs = tuple(input_tensor.to(device)\n",
        "                            for input_tensor in inputs)\n",
        "\n",
        "    targets = targets.to(device)\n",
        "    targets = targets.to(dtype=torch.float32)\n",
        "    #print(\"output shape\",targets.shape)\n",
        "\n",
        "    # Step 1: Forward pass to get the model's predictions\n",
        "    outputs = model(inputs)\n",
        "    #print(\"output shape\",output.shape)\n",
        "\n",
        "    # Step 2: Compute the loss using the provided loss function\n",
        "    if loss_function:\n",
        "        loss = loss_function(outputs, targets)\n",
        "\n",
        "    # Step 2: Calculate the number of correctly classified samples\n",
        "    #predicted = torch.argmax(outputs.data, 1)\n",
        "    correct = (outputs == targets).sum().item()\n",
        "\n",
        "    # Step 3 and 4: Perform backward pass and update model parameters if an optimizer is provided\n",
        "    if optimizer:\n",
        "        optimizer.zero_grad()\n",
        "        loss.backward()\n",
        "        torch.nn.utils.clip_grad_value_(model.parameters(), clip_value=10.0)\n",
        "        optimizer.step()\n",
        "\n",
        "    # Return relevant metrics\n",
        "    if loss_function:\n",
        "        return loss, outputs, correct\n",
        "    else:\n",
        "        return outputs, correct\n"
      ],
      "metadata": {
        "id": "GEM8sbJu8ADo"
      },
      "execution_count": 26,
      "outputs": []
    },
    {
      "cell_type": "markdown",
      "source": [
        "## <Font color = 'indianred'>**Train_Epoch Function**"
      ],
      "metadata": {
        "id": "bkT0zT_XYL4s"
      }
    },
    {
      "cell_type": "code",
      "source": [
        "def train_epoch(train_loader, model, device, loss_function, optimizer):\n",
        "    \"\"\"\n",
        "    Trains the model for one epoch using the provided data loader and updates the model parameters.\n",
        "\n",
        "    Parameters:\n",
        "    - train_loader (torch.utils.data.DataLoader): DataLoader object for the training set.\n",
        "    - model (torch.nn.Module): The neural network model to be trained.\n",
        "    - device (torch.device): The computing device (CPU or GPU).\n",
        "    - loss_function (torch.nn.Module): The loss function to use for training.\n",
        "    - optimizer (torch.optim.Optimizer): The optimizer to update model parameters.\n",
        "\n",
        "    Returns:\n",
        "    - train_loss (float): Average training loss for the epoch.\n",
        "    - train_acc (float): Training accuracy for the epoch.\n",
        "    \"\"\"\n",
        "    train_hamming_distance = HammingDistance(task=\"multilabel\", num_labels=10).to(device)\n",
        "    # Set the model to training mode\n",
        "    model.train()\n",
        "\n",
        "    # Initialize variables to track running training loss and correct predictions\n",
        "    running_train_loss = 0.0\n",
        "    running_train_correct = 0\n",
        "\n",
        "    # Iterate over all batches in the training data\n",
        "    for inputs, targets in train_loader:\n",
        "        # Perform a forward and backward pass, updating model parameters\n",
        "        loss, _, correct = step(inputs, targets, model, device, loss_function, optimizer)\n",
        "\n",
        "        # Update running loss and correct predictions counter\n",
        "        running_train_loss += loss.item()\n",
        "        running_train_correct += correct\n",
        "\n",
        "    # Compute average loss and accuracy for the entire training set\n",
        "    train_loss = running_train_loss / len(train_loader)\n",
        "    train_acc = running_train_correct / len(train_loader.dataset)\n",
        "\n",
        "    epoch_hamming_distance = train_hamming_distance.compute()\n",
        "\n",
        "    # # Print the train loss and Hamming Distance for the epoch\n",
        "    # print(f'Epoch: {epoch + 1} / {epochs}')\n",
        "    print(f'Train Loss: {train_loss:.4f} | Train Hamming Distance: {epoch_hamming_distance:.4f}')\n",
        "\n",
        "    # # Reset metric states for the next epoch\n",
        "    # train_hamming_distance.reset()\n",
        "\n",
        "\n",
        "    return train_loss, train_acc\n"
      ],
      "metadata": {
        "id": "J2BpCxsrAnqf"
      },
      "execution_count": 27,
      "outputs": []
    },
    {
      "cell_type": "markdown",
      "source": [
        "## <Font color = 'indianred'>**Val_Epoch Function**"
      ],
      "metadata": {
        "id": "_eMtYWiBYSvv"
      }
    },
    {
      "cell_type": "code",
      "source": [
        "def val_epoch(valid_loader, model, device, loss_function):\n",
        "    \"\"\"\n",
        "    Validates the model for one epoch using the provided data loader.\n",
        "\n",
        "    Parameters:\n",
        "    - valid_loader (torch.utils.data.DataLoader): DataLoader object for the validation set.\n",
        "    - model (torch.nn.Module): The neural network model to be validated.\n",
        "    - device (torch.device): The computing device (CPU or GPU).\n",
        "    - loss_function (torch.nn.Module): The loss function to evaluate the model.\n",
        "\n",
        "    Returns:\n",
        "    - val_loss (float): Average validation loss for the epoch.\n",
        "    - val_acc (float): Validation accuracy for the epoch.\n",
        "    \"\"\"\n",
        "    #train_hamming_distance = HammingDistance(task=\"multilabel\", num_labels=10).to(device)\n",
        "    # Set the model to evaluation mode\n",
        "    model.eval()\n",
        "\n",
        "    # Initialize variables to track running validation loss and correct predictions\n",
        "    running_val_loss = 0.0\n",
        "    running_val_correct = 0\n",
        "\n",
        "    # Disable gradient computation\n",
        "    with torch.no_grad():\n",
        "        # Iterate over all batches in the validation data\n",
        "        for inputs, targets in valid_loader:\n",
        "            # Perform a forward pass to get loss and number of correct predictions\n",
        "            loss, _, correct = step(inputs, targets, model, device, loss_function, optimizer=None)\n",
        "\n",
        "            # Update running loss and correct predictions counter\n",
        "            running_val_loss += loss.item()\n",
        "            running_val_correct += correct\n",
        "\n",
        "    # Compute average loss and accuracy for the entire validation set\n",
        "    val_loss = running_val_loss / len(valid_loader)\n",
        "    val_acc = running_val_correct / len(valid_loader.dataset)\n",
        "\n",
        "    # epoch_hamming_distance = train_hamming_distance.compute()\n",
        "\n",
        "    # # Print the train loss and Hamming Distance for the epoch\n",
        "    # print(f'Epoch: {epoch + 1} / {epochs}')\n",
        "    # print(f'Train Loss: {train_loss:.4f} | Train Hamming Distance: {epoch_hamming_distance:.4f}')\n",
        "\n",
        "    # # Reset metric states for the next epoch\n",
        "    # train_hamming_distance.reset()\n",
        "\n",
        "    return val_loss, val_acc\n"
      ],
      "metadata": {
        "id": "uCGiGJtkAxQe"
      },
      "execution_count": 28,
      "outputs": []
    },
    {
      "cell_type": "markdown",
      "source": [
        "## <Font color = 'indianred'>**Train Function**"
      ],
      "metadata": {
        "id": "rp-VIoEBYWDg"
      }
    },
    {
      "cell_type": "code",
      "source": [
        "from torchmetrics import HammingDistance"
      ],
      "metadata": {
        "id": "OYpDAcWT86pM"
      },
      "execution_count": 29,
      "outputs": []
    },
    {
      "cell_type": "code",
      "source": [
        "def train(train_loader, valid_loader, model, optimizer, loss_function, epochs, device):\n",
        "    \"\"\"\n",
        "    Trains and validates the model, and returns history of train and validation metrics.\n",
        "\n",
        "    Parameters:\n",
        "    - train_loader (torch.utils.data.DataLoader): DataLoader for the training set.\n",
        "    - valid_loader (torch.utils.data.DataLoader): DataLoader for the validation set.\n",
        "    - model (torch.nn.Module): Neural network model to train.\n",
        "    - optimizer (torch.optim.Optimizer): Optimizer algorithm.\n",
        "    - loss_function (torch.nn.Module): Loss function to evaluate the model.\n",
        "    - epochs (int): Number of epochs to train the model.\n",
        "    - device (torch.device): The computing device (CPU or GPU).\n",
        "\n",
        "    Returns:\n",
        "    - train_loss_history (list): History of training loss for each epoch.\n",
        "    - train_acc_history (list): History of training accuracy for each epoch.\n",
        "    - valid_loss_history (list): History of validation loss for each epoch.\n",
        "    - valid_acc_history (list): History of validation accuracy for each epoch.\n",
        "    \"\"\"\n",
        "    train_hamming_distance = HammingDistance(task=\"multilabel\", num_labels=10).to(device)\n",
        "    # Initialize lists to store metrics for each epoch\n",
        "    train_loss_history = []\n",
        "    valid_loss_history = []\n",
        "    train_acc_history = []\n",
        "    valid_acc_history = []\n",
        "\n",
        "    # Loop over the number of specified epochs\n",
        "    for epoch in range(epochs):\n",
        "      # Train model on training data and capture metrics\n",
        "      train_loss, train_acc = train_epoch(\n",
        "          train_loader, model, device, loss_function, optimizer)\n",
        "\n",
        "        # Validate model on validation data and capture metrics\n",
        "      valid_loss, valid_acc = val_epoch(\n",
        "          valid_loader, model, device, loss_function)\n",
        "\n",
        "        # Store metrics for this epoch\n",
        "      train_loss_history.append(train_loss)\n",
        "      train_acc_history.append(train_acc)\n",
        "      valid_loss_history.append(valid_loss)\n",
        "      valid_acc_history.append(valid_acc)\n",
        "\n",
        "        # Output epoch-level summary\n",
        "      print(f\"Epoch {epoch+1}/{epochs}\")\n",
        "      print(f\"Train Loss: {train_loss:.4f} | Train Accuracy: {train_acc*100:.2f}%\")\n",
        "      print(f\"Valid Loss: {valid_loss:.4f} | Valid Accuracy: {valid_acc*100:.2f}%\")\n",
        "      print()\n",
        "\n",
        "      epoch_hamming_distance = train_hamming_distance.compute()\n",
        "\n",
        "      # Print the train loss and Hamming Distance for the epoch\n",
        "      print(f'Epoch: {epoch + 1} / {epochs}')\n",
        "      print(f'Train Loss: {train_loss:.4f} | Train Hamming Distance: {epoch_hamming_distance:.4f}')\n",
        "\n",
        "      # Reset metric states for the next epoch\n",
        "      train_hamming_distance.reset()\n",
        "\n",
        "    return train_loss_history, train_acc_history, valid_loss_history, valid_acc_history\n"
      ],
      "metadata": {
        "id": "kBKa4xPxA9-n"
      },
      "execution_count": 30,
      "outputs": []
    },
    {
      "cell_type": "markdown",
      "metadata": {
        "id": "5nF5iTy_VqdV"
      },
      "source": [
        "# <Font color = 'indianred'>**Hyperparameters**"
      ]
    },
    {
      "cell_type": "code",
      "source": [
        "hyperparameters = SimpleNamespace(\n",
        "    # model Parameters\n",
        "    EMBED_DIM=300,\n",
        "    VOCAB_SIZE=len(vocab),\n",
        "    OUTPUT_DIM=10,\n",
        "    HIDDEN_DIM1=200,\n",
        "    HIDDEN_DIM2=100,\n",
        "    #DROP_PROB1=0.5,\n",
        "    #DROP_PROB2=0.5,\n",
        "    NUM_OUTPUTS=10,\n",
        "\n",
        "    # training\n",
        "    EPOCHS=5,\n",
        "    BATCH_SIZE=128,\n",
        "    LEARNING_RATE=0.001,\n",
        "    WEIGHT_DECAY=0.000,\n",
        "    CLIP_TYPE = 'value',\n",
        "    CLIP_VALUE = 10,\n",
        "    PATIENCE=5,\n",
        "\n",
        "\n",
        ")"
      ],
      "metadata": {
        "id": "e49CHTv5i09O"
      },
      "execution_count": 31,
      "outputs": []
    },
    {
      "cell_type": "markdown",
      "metadata": {
        "id": "oVk_RctgdPRP"
      },
      "source": [
        "# <Font color = 'indianred'>**Training Configuration**"
      ]
    },
    {
      "cell_type": "code",
      "execution_count": 32,
      "metadata": {
        "execution": {
          "iopub.execute_input": "2022-10-24T09:22:14.283277Z",
          "iopub.status.busy": "2022-10-24T09:22:14.283050Z",
          "iopub.status.idle": "2022-10-24T09:22:14.433708Z",
          "shell.execute_reply": "2022-10-24T09:22:14.433252Z",
          "shell.execute_reply.started": "2022-10-24T09:22:14.283255Z"
        },
        "id": "fZ6ZoM9WaS_M",
        "tags": [],
        "colab": {
          "base_uri": "https://localhost:8080/"
        },
        "outputId": "4650a613-cc53-4f6c-bcc6-9c4c4553e39c"
      },
      "outputs": [
        {
          "output_type": "stream",
          "name": "stderr",
          "text": [
            "/usr/local/lib/python3.10/dist-packages/torch/utils/data/dataloader.py:560: UserWarning: This DataLoader will create 4 worker processes in total. Our suggested max number of worker in current system is 2, which is smaller than what this DataLoader is going to create. Please be aware that excessive worker creation might get DataLoader running slow or even freeze, lower the worker number to avoid potential slowness/freeze if necessary.\n",
            "  warnings.warn(_create_warning_msg(\n"
          ]
        }
      ],
      "source": [
        "# Fix seed value\n",
        "SEED = 2345\n",
        "random.seed(SEED)\n",
        "np.random.seed(SEED)\n",
        "torch.manual_seed(SEED)\n",
        "torch.cuda.manual_seed(SEED)\n",
        "torch.backends.cudnn.deterministic = True\n",
        "\n",
        "collate_fn = partial(collate_batch, my_vocab=vocab)\n",
        "\n",
        "# Data Loader\n",
        "train_loader = torch.utils.data.DataLoader(trainset, batch_size=hyperparameters.BATCH_SIZE, shuffle=True,\n",
        "                                           collate_fn=collate_fn, num_workers=4)\n",
        "valid_loader = torch.utils.data.DataLoader(validset, batch_size=hyperparameters.BATCH_SIZE, shuffle=False,\n",
        "                                           collate_fn=collate_fn,  num_workers=4)\n",
        "test_loader = torch.utils.data.DataLoader(testset, batch_size=hyperparameters.BATCH_SIZE,   shuffle=False,\n",
        "                                          collate_fn=collate_fn,  num_workers=4)\n",
        "\n",
        "# cross entropy loss function\n",
        "loss_function = nn.CrossEntropyLoss()\n",
        "#loss_function = nn.MSELoss()\n",
        "\n",
        "# model\n",
        "model_imdb = CustomMLP(vocab_size=hyperparameters.VOCAB_SIZE,\n",
        "                       embedding_dim=hyperparameters.EMBED_DIM,\n",
        "                       hidden_dim1=hyperparameters.HIDDEN_DIM1,\n",
        "                       hidden_dim2=hyperparameters.HIDDEN_DIM2,\n",
        "                       num_outputs=hyperparameters.NUM_OUTPUTS)\n",
        "\n",
        "def init_weights(m):\n",
        "    if type(m) == nn.Linear:\n",
        "        torch.nn.init.kaiming_normal_(m.weight)\n",
        "        torch.nn.init.zeros_(m.bias)\n",
        "\n",
        "\n",
        "# apply initialization recursively  to all modules\n",
        "model_imdb.apply(init_weights)\n",
        "\n",
        "# Intialize stochiastic gradient descent optimizer\n",
        "optimizer = torch.optim.AdamW(model_imdb.parameters(),\n",
        "                             lr=hyperparameters.LEARNING_RATE,\n",
        "\n",
        "                             )\n",
        "\n",
        "#device = torch.device('cuda:0' if torch.cuda.is_available() else 'cpu')"
      ]
    },
    {
      "cell_type": "markdown",
      "metadata": {
        "id": "ffeGh2dcukdK"
      },
      "source": [
        "# <Font color = 'indianred'>**Sanity Check**\n",
        "- Check the loss without any training. For Cross entropy the expected value will be log(number of classes)"
      ]
    },
    {
      "cell_type": "code",
      "execution_count": 33,
      "metadata": {
        "colab": {
          "base_uri": "https://localhost:8080/"
        },
        "execution": {
          "iopub.execute_input": "2022-10-24T09:22:14.462462Z",
          "iopub.status.busy": "2022-10-24T09:22:14.462136Z",
          "iopub.status.idle": "2022-10-24T09:22:14.705187Z",
          "shell.execute_reply": "2022-10-24T09:22:14.704720Z",
          "shell.execute_reply.started": "2022-10-24T09:22:14.462447Z"
        },
        "id": "p2Gx7jgbumux",
        "outputId": "e4e737a9-ab3b-4632-95c8-a07a516ca372",
        "tags": []
      },
      "outputs": [
        {
          "output_type": "stream",
          "name": "stdout",
          "text": [
            "<class 'torch.Tensor'>\n",
            "<class 'torch.Tensor'>\n",
            "Actual loss: 4.873618125915527\n",
            "Expected Theoretical loss: 2.3025850929940455\n"
          ]
        }
      ],
      "source": [
        "for input_ , targets  in train_loader:\n",
        "  # move inputs and outputs to GPUs\n",
        "  model_imdb = model_imdb.to(device)\n",
        "\n",
        "  input_ = tuple(input_tensor.to(device)\n",
        "                            for input_tensor in input_)\n",
        "  targets = targets.to(device)\n",
        "  print(type(targets))\n",
        "  targets = targets.to(dtype=torch.float32)\n",
        "  model_imdb.eval()\n",
        "  # Forward pass\n",
        "  output = model_imdb(input_)\n",
        "  print(type(output))\n",
        "  loss = loss_function(output, targets)\n",
        "  print(f'Actual loss: {loss}')\n",
        "  break\n",
        "\n",
        "print(f'Expected Theoretical loss: {np.log(10)}')"
      ]
    },
    {
      "cell_type": "markdown",
      "metadata": {
        "id": "e0_zWk0Ib74K"
      },
      "source": [
        "# <Font color = 'indianred'>**Training Model**"
      ]
    },
    {
      "cell_type": "code",
      "execution_count": 34,
      "metadata": {
        "id": "pQFAZaSXZCcG",
        "colab": {
          "base_uri": "https://localhost:8080/"
        },
        "outputId": "0c087483-9069-479a-c011-d0453df2f42c"
      },
      "outputs": [
        {
          "output_type": "stream",
          "name": "stdout",
          "text": [
            "Train Loss: 3.8004 | Train Hamming Distance: 1.0000\n"
          ]
        },
        {
          "output_type": "stream",
          "name": "stderr",
          "text": [
            "/usr/local/lib/python3.10/dist-packages/torchmetrics/utilities/prints.py:43: UserWarning: The ``compute`` method of metric MultilabelHammingDistance was called before the ``update`` method which may lead to errors, as metric states have not yet been updated.\n",
            "  warnings.warn(*args, **kwargs)  # noqa: B028\n"
          ]
        },
        {
          "output_type": "stream",
          "name": "stdout",
          "text": [
            "Epoch 1/5\n",
            "Train Loss: 3.8004 | Train Accuracy: 0.00%\n",
            "Valid Loss: 2.6303 | Valid Accuracy: 0.00%\n",
            "\n",
            "Epoch: 1 / 5\n",
            "Train Loss: 3.8004 | Train Hamming Distance: 1.0000\n",
            "Train Loss: 2.6755 | Train Hamming Distance: 1.0000\n",
            "Epoch 2/5\n",
            "Train Loss: 2.6755 | Train Accuracy: 0.00%\n",
            "Valid Loss: 2.4210 | Valid Accuracy: 0.00%\n",
            "\n",
            "Epoch: 2 / 5\n",
            "Train Loss: 2.6755 | Train Hamming Distance: 1.0000\n",
            "Train Loss: 2.4598 | Train Hamming Distance: 1.0000\n",
            "Epoch 3/5\n",
            "Train Loss: 2.4598 | Train Accuracy: 0.00%\n",
            "Valid Loss: 2.3265 | Valid Accuracy: 0.00%\n",
            "\n",
            "Epoch: 3 / 5\n",
            "Train Loss: 2.4598 | Train Hamming Distance: 1.0000\n",
            "Train Loss: 2.3312 | Train Hamming Distance: 1.0000\n",
            "Epoch 4/5\n",
            "Train Loss: 2.3312 | Train Accuracy: 0.00%\n",
            "Valid Loss: 2.2540 | Valid Accuracy: 0.00%\n",
            "\n",
            "Epoch: 4 / 5\n",
            "Train Loss: 2.3312 | Train Hamming Distance: 1.0000\n",
            "Train Loss: 2.2363 | Train Hamming Distance: 1.0000\n",
            "Epoch 5/5\n",
            "Train Loss: 2.2363 | Train Accuracy: 0.00%\n",
            "Valid Loss: 2.2050 | Valid Accuracy: 0.00%\n",
            "\n",
            "Epoch: 5 / 5\n",
            "Train Loss: 2.2363 | Train Hamming Distance: 1.0000\n"
          ]
        }
      ],
      "source": [
        "# Call the train function to train the model\n",
        "train_losses, train_acc, valid_losses, valid_acc = train(\n",
        "    train_loader, valid_loader, model_imdb, optimizer, loss_function, hyperparameters.EPOCHS, device\n",
        ")\n"
      ]
    }
  ],
  "metadata": {
    "accelerator": "GPU",
    "colab": {
      "machine_shape": "hm",
      "provenance": [],
      "gpuType": "T4"
    },
    "kernelspec": {
      "display_name": "Python 3",
      "name": "python3"
    },
    "language_info": {
      "codemirror_mode": {
        "name": "ipython",
        "version": 3
      },
      "file_extension": ".py",
      "mimetype": "text/x-python",
      "name": "python",
      "nbconvert_exporter": "python",
      "pygments_lexer": "ipython3",
      "version": "3.9.16"
    },
    "vscode": {
      "interpreter": {
        "hash": "a75929e85776ec4eb9d0646d55dce2d9636f6a302fc78e3e6babaf08df8451b4"
      }
    }
  },
  "nbformat": 4,
  "nbformat_minor": 0
}